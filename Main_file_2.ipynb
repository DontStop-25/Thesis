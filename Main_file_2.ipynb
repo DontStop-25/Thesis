{
 "cells": [
  {
   "cell_type": "markdown",
   "metadata": {},
   "source": [
    "# Import libs"
   ]
  },
  {
   "cell_type": "code",
   "execution_count": 20,
   "metadata": {},
   "outputs": [],
   "source": [
    "# region Data Libraries\n",
    "import pandas as pd\n",
    "import geopandas as gpd\n",
    "import numpy as np\n",
    "# endregion\n",
    "\n",
    "# region Machine Learning\n",
    "from sklearn.ensemble import RandomForestClassifier\n",
    "from sklearn.model_selection import train_test_split, cross_val_score\n",
    "from sklearn.metrics import classification_report, confusion_matrix, accuracy_score\n",
    "from sklearn.preprocessing import OneHotEncoder, LabelEncoder\n",
    "from sklearn.compose import ColumnTransformer\n",
    "from sklearn.pipeline import Pipeline\n",
    "from sklearn.utils.class_weight import compute_sample_weight\n",
    "from imblearn.over_sampling import SMOTE\n",
    "import xgboost as xgb\n",
    "from xgboost import XGBClassifier\n",
    "from lightgbm import LGBMClassifier\n",
    "# endregion\n",
    "\n",
    "# region Visualization\n",
    "import matplotlib.pyplot as plt\n",
    "import seaborn as sns\n",
    "import missingno as msno\n",
    "import contextily as ctx\n",
    "import folium\n",
    "from folium.plugins import MarkerCluster\n",
    "# endregion\n",
    "\n",
    "# region Fuzzy Matching\n",
    "from thefuzz import fuzz, process\n",
    "from rapidfuzz import fuzz\n",
    "# endregion\n",
    "\n",
    "# region Date and Time\n",
    "import datetime\n",
    "from datetime import datetime\n",
    "# endregion\n",
    "\n",
    "# region Utilities\n",
    "import re\n",
    "from collections import Counter, defaultdict\n",
    "import importlib\n",
    "# endregion\n",
    "\n",
    "import joblib\n",
    "\n",
    "from imblearn.combine import SMOTEENN\n",
    "from imblearn.under_sampling import RandomUnderSampler\n",
    "from imblearn.over_sampling import ADASYN, SMOTE\n",
    "\n",
    "import shap\n",
    "import fiona\n",
    "\n",
    "from sklearn.model_selection import RandomizedSearchCV\n",
    "from lightgbm import LGBMClassifier\n",
    "from sklearn.metrics import classification_report\n",
    "import numpy as np\n",
    "\n",
    "import numpy as np\n",
    "import pandas as pd\n",
    "import shap\n",
    "from sklearn.preprocessing import StandardScaler\n",
    "from sklearn.cluster import KMeans\n",
    "import matplotlib.pyplot as plt\n",
    "\n",
    "\n"
   ]
  },
  {
   "cell_type": "markdown",
   "metadata": {},
   "source": [
    "# Recreate 200m buffer and 400m buffer"
   ]
  },
  {
   "cell_type": "code",
   "execution_count": 3,
   "metadata": {},
   "outputs": [
    {
     "name": "stderr",
     "output_type": "stream",
     "text": [
      "/var/folders/c2/9ncptkzj657d0bp07xyq26y00000gn/T/ipykernel_96227/3908179532.py:15: DtypeWarning: Columns (29) have mixed types. Specify dtype option on import or set low_memory=False.\n",
      "  accidents[year] = pd.read_csv(path, sep=',', encoding='latin1', usecols=accident_cols)\n"
     ]
    },
    {
     "name": "stdout",
     "output_type": "stream",
     "text": [
      "X\n"
     ]
    },
    {
     "name": "stderr",
     "output_type": "stream",
     "text": [
      "/var/folders/c2/9ncptkzj657d0bp07xyq26y00000gn/T/ipykernel_96227/3908179532.py:36: DtypeWarning: Columns (35) have mixed types. Specify dtype option on import or set low_memory=False.\n",
      "  df_acc = pd.read_csv(accident_path, sep=',', encoding='latin1', usecols=accident_cols)\n",
      "/var/folders/c2/9ncptkzj657d0bp07xyq26y00000gn/T/ipykernel_96227/3908179532.py:36: DtypeWarning: Columns (29,35) have mixed types. Specify dtype option on import or set low_memory=False.\n",
      "  df_acc = pd.read_csv(accident_path, sep=',', encoding='latin1', usecols=accident_cols)\n"
     ]
    },
    {
     "name": "stdout",
     "output_type": "stream",
     "text": [
      "<class 'pandas.core.frame.DataFrame'>\n",
      "RangeIndex: 860610 entries, 0 to 860609\n",
      "Data columns (total 31 columns):\n",
      " #   Column      Non-Null Count   Dtype   \n",
      "---  ------      --------------   -----   \n",
      " 0   VKL_NUMMER  860610 non-null  int64   \n",
      " 1   JAAR_VKL    860610 non-null  int64   \n",
      " 2   AP3_CODE    860610 non-null  object  \n",
      " 3   ANTL_PTJ    860610 non-null  int64   \n",
      " 4   AOL_ID      860610 non-null  int64   \n",
      " 5   NIVEAUKOP   860610 non-null  object  \n",
      " 6   WSE_ID      556174 non-null  float64 \n",
      " 7   BEBKOM      563350 non-null  object  \n",
      " 8   MAXSNELHD   735232 non-null  float64 \n",
      " 9   WVL_ID      554708 non-null  float64 \n",
      " 10  WVG_ID      547828 non-null  float64 \n",
      " 11  WVG_AN      4470 non-null    object  \n",
      " 12  WDK_ID      560018 non-null  float64 \n",
      " 13  LGD_ID      860598 non-null  float64 \n",
      " 14  WGD_CODE_1  540987 non-null  object  \n",
      " 15  WGD_CODE_2  751 non-null     object  \n",
      " 16  BZD_ID_VM1  46931 non-null   float64 \n",
      " 17  BZD_ID_IF1  29389 non-null   float64 \n",
      " 18  BZD_IF_AN   64042 non-null   object  \n",
      " 19  BZD_ID_TA1  5342 non-null    float64 \n",
      " 20  BZD_TA_AN   2338 non-null    object  \n",
      " 21  JTE_ID      236572 non-null  float64 \n",
      " 22  WVK_ID      624038 non-null  float64 \n",
      " 23  FK_VELD5    860610 non-null  object  \n",
      " 24  GME_ID      860610 non-null  int64   \n",
      " 25  GME_NAAM    860610 non-null  object  \n",
      " 26  PVE_CODE    860610 non-null  object  \n",
      " 27  PVE_NAAM    860610 non-null  object  \n",
      " 28  X_COORD     860610 non-null  float64 \n",
      " 29  Y_COORD     860610 non-null  float64 \n",
      " 30  geometry    860610 non-null  geometry\n",
      "dtypes: float64(13), geometry(1), int64(5), object(12)\n",
      "memory usage: 203.5+ MB\n"
     ]
    }
   ],
   "source": [
    "import pandas as pd\n",
    "import geopandas as gpd\n",
    "\n",
    "# -- Region: Load and Prepare Accident Data (2017–2020) --\n",
    "\n",
    "accident_cols = ['VKL_NUMMER', 'JAAR_VKL', 'AP3_CODE', 'ANTL_PTJ', 'AOL_ID', 'NIVEAUKOP', 'WSE_ID',\n",
    "                 'BEBKOM', 'MAXSNELHD', 'WVL_ID', 'WVG_ID', 'WVG_AN', 'WDK_ID', 'LGD_ID', 'WGD_CODE_1',\n",
    "                 'WGD_CODE_2', 'BZD_ID_VM1', 'BZD_ID_IF1', 'BZD_IF_AN', 'BZD_ID_TA1', 'BZD_TA_AN',\n",
    "                 'JTE_ID', 'WVK_ID', 'FK_VELD5', 'GME_ID', 'GME_NAAM', 'PVE_CODE', 'PVE_NAAM']\n",
    "\n",
    "# Read accident data for 2017–2020\n",
    "accidents = {}\n",
    "for year in range(2017, 2021):\n",
    "    path = f\"/Users/jorissoolsma/Downloads/01-01-{year}_31-12-{year}/Ongevallengegevens/ongevallen.txt\"\n",
    "    accidents[year] = pd.read_csv(path, sep=',', encoding='latin1', usecols=accident_cols)\n",
    "\n",
    "# Read location data for 2017–2020\n",
    "locations = {}\n",
    "for year in range(2017, 2021):\n",
    "    path = f\"/Users/jorissoolsma/Downloads/01-01-{year}_31-12-{year}/Netwerkgegevens/puntlocaties.txt\"\n",
    "    df = pd.read_csv(path)\n",
    "    locations[year] = gpd.GeoDataFrame(df, geometry=gpd.points_from_xy(df['X_COORD'], df['Y_COORD']), crs=\"EPSG:28992\")\n",
    "\n",
    "# Merge accidents with location data\n",
    "merged = {year: accidents[year].merge(locations[year], on='FK_VELD5') for year in range(2017, 2021)}\n",
    "\n",
    "# -- Region: Load and Prepare 2021–2023 Data --\n",
    "print('X')\n",
    "def load_recent_year(year):\n",
    "    location_path = f\"/Users/jorissoolsma/Desktop/Programming/Datasets/BRON Puntlocatie's/puntlocaties{year}.txt\"\n",
    "    accident_path = f\"/Users/jorissoolsma/Desktop/Programming/Datasets/BRON Ongevallen/ongevallen{year}.txt\"\n",
    "    \n",
    "    df_loca = pd.read_csv(location_path)\n",
    "    gdf_loca = gpd.GeoDataFrame(df_loca, geometry=gpd.points_from_xy(df_loca['X_COORD'], df_loca['Y_COORD']), crs=\"EPSG:28992\")\n",
    "    \n",
    "    df_acc = pd.read_csv(accident_path, sep=',', encoding='latin1', usecols=accident_cols)\n",
    "    merged = df_acc.merge(gdf_loca, on='FK_VELD5')\n",
    "    return merged\n",
    "\n",
    "merged[2021] = load_recent_year(2021)\n",
    "merged[2022] = load_recent_year(2022)\n",
    "merged[2023] = load_recent_year(2023)\n",
    "\n",
    "# -- Region: Combine All Years --\n",
    "\n",
    "# Combine all years into one dataframe\n",
    "all_accidents = pd.concat(list(merged.values()), ignore_index=True)\n",
    "\n",
    "# Preview output\n",
    "all_accidents.info()\n"
   ]
  },
  {
   "cell_type": "markdown",
   "metadata": {},
   "source": [
    "# Time"
   ]
  },
  {
   "cell_type": "code",
   "execution_count": 4,
   "metadata": {},
   "outputs": [],
   "source": [
    "# -- Step 1: Define column types and load CSV --\n",
    "types = {\n",
    "    'VKL_NUMMER': 'Int64',\n",
    "    'DATUM_VKL': 'Int64',\n",
    "    'UUR': 'object'\n",
    "}\n",
    "\n",
    "time = pd.read_csv('/Users/jorissoolsma/Desktop/Programming/Datasets/BRON time/Export_datumVKL_Uur.txt', dtype=types, na_values=None)\n",
    "\n",
    "# -- Step 2: Fix hour formatting (pad with leading zero if needed) --\n",
    "time['UUR'] = time['UUR'].apply(lambda x: f'{x:02}')\n",
    "\n",
    "# -- Step 3: Combine date and hour into single datetime string --\n",
    "time['DATUM_VKL'] = time['DATUM_VKL'].astype(str) + time['UUR']\n",
    "\n",
    "# -- Step 4: Convert to datetime format safely --\n",
    "time['DATUM_VKL'] = pd.to_datetime(time['DATUM_VKL'], format='%Y%m%d%H', errors='coerce')\n",
    "\n",
    "# -- Step 5: Drop raw hour column --\n",
    "time = time.drop(columns='UUR')\n",
    "\n",
    "# -- Step 6: Extract datetime components --\n",
    "time['Hour'] = time['DATUM_VKL'].dt.hour\n",
    "time['Month'] = time['DATUM_VKL'].dt.month\n",
    "time['Day'] = time['DATUM_VKL'].dt.day\n",
    "time['Day_of_week'] = time['DATUM_VKL'].dt.dayofweek\n"
   ]
  },
  {
   "cell_type": "code",
   "execution_count": 5,
   "metadata": {},
   "outputs": [],
   "source": [
    "\n",
    "all_accidents = all_accidents.merge(time, left_on= 'VKL_NUMMER', right_on= 'VKL_NUMMER', how = 'left')"
   ]
  },
  {
   "cell_type": "code",
   "execution_count": 6,
   "metadata": {},
   "outputs": [
    {
     "data": {
      "text/plain": [
       "<Projected CRS: EPSG:28992>\n",
       "Name: Amersfoort / RD New\n",
       "Axis Info [cartesian]:\n",
       "- X[east]: Easting (metre)\n",
       "- Y[north]: Northing (metre)\n",
       "Area of Use:\n",
       "- name: Netherlands - onshore, including Waddenzee, Dutch Wadden Islands and 12-mile offshore coastal zone.\n",
       "- bounds: (3.2, 50.75, 7.22, 53.7)\n",
       "Coordinate Operation:\n",
       "- name: RD New\n",
       "- method: Oblique Stereographic\n",
       "Datum: Amersfoort\n",
       "- Ellipsoid: Bessel 1841\n",
       "- Prime Meridian: Greenwich"
      ]
     },
     "execution_count": 6,
     "metadata": {},
     "output_type": "execute_result"
    }
   ],
   "source": [
    "all_accidents = gpd.GeoDataFrame(all_accidents, geometry=gpd.points_from_xy(all_accidents['X_COORD'], all_accidents['Y_COORD']))  ### Adds a geometry column\n",
    "\n",
    "all_accidents = all_accidents.set_crs('EPSG:28992')      # Ensures that CRS is set to the standard in the Netherlands\n",
    "all_accidents.crs                                 # <Projected CRS: EPSG:28992>\n"
   ]
  },
  {
   "cell_type": "code",
   "execution_count": 7,
   "metadata": {},
   "outputs": [],
   "source": [
    "# -- Create 200m buffer GeoDataFrame --\n",
    "df_200m = all_accidents.copy()\n",
    "df_200m['buffer_200m'] = df_200m.geometry.buffer(200)\n",
    "df_200m = df_200m.set_geometry('buffer_200m')\n",
    "\n",
    "# -- Create 400m buffer GeoDataFrame --\n",
    "df_400m = all_accidents.copy()\n",
    "df_400m['buffer_400m'] = df_400m.geometry.buffer(400)\n",
    "df_400m = df_400m.set_geometry('buffer_400m')\n"
   ]
  },
  {
   "cell_type": "markdown",
   "metadata": {},
   "source": [
    "# Location Accuracy"
   ]
  },
  {
   "cell_type": "code",
   "execution_count": 8,
   "metadata": {},
   "outputs": [],
   "source": [
    "# Exclude accidents with non-exact x,y location (street and municipality)\n",
    "location_accuracies = ['S', 'G']\n",
    "\n",
    "# --- Filter 200m buffer ---\n",
    "df_200m_filtered = df_200m[~df_200m['NIVEAUKOP'].isin(location_accuracies)].copy()\n",
    "\n",
    "\n",
    "\n",
    "# --- Filter 400m buffer ---\n",
    "df_400m_filtered = df_400m[~df_400m['NIVEAUKOP'].isin(location_accuracies)].copy()\n",
    "\n",
    "\n"
   ]
  },
  {
   "cell_type": "markdown",
   "metadata": {},
   "source": [
    "# Rename"
   ]
  },
  {
   "cell_type": "code",
   "execution_count": 9,
   "metadata": {},
   "outputs": [],
   "source": [
    "new_column_names = {\n",
    "    'VKL_NUMMER':'Accident_Id',\n",
    "    'JAAR_VKL':'Year',\n",
    "    'AP3_CODE':'Severity_level',\n",
    "    'ANTL_PTJ': 'Nr_of_parties',\n",
    "    'AOL_ID': 'Nature_of_accident',\n",
    "    'NIVEAUKOP':'Location_accuracy',\n",
    "    'WSE_ID': 'Road_segment_type',\n",
    "    'BEBKOM':'Urban_zone',\n",
    "    'MAXSNELHD':'Max_speed',\n",
    "    'WVL_ID': 'Streetlight_status',\n",
    "    'WVG_ID': 'Road_surface',                           ### merge with road_surface_other\n",
    "    'WVG_AN': 'Road_surface_other',                     ### merge with road_surface\n",
    "    'WDK_ID': 'Road_surface_condition',\n",
    "    'LGD_ID': 'Natural_light',\n",
    "    'WGD_CODE_1' : 'Weather_conditions_1',              ### check whether these are not the same\n",
    "    'WGD_CODE_2' : 'Weather_conditions_2',              ### check whether these are not the same\n",
    "    'BZD_ID_VM1' : 'Special_traffic_measure',           \n",
    "    'BZD_ID_IF1' : 'Special_infrastructure',\n",
    "    'BZD_IF_AN' : 'Special_infrastructure_other',       ### needs additional preprocessing\n",
    "    'BZD_ID_TA1' : 'Special_temporary',\n",
    "    'BZD_TA_AN' : 'Special_temporary_other',            ### needs addiitonal preprocessing, some can be used to fill features\n",
    "    'JTE_ID_X': 'Junction_Id',\n",
    "    'WVK_ID_X': 'Road_section_Id',\n",
    "    'FK_VELD5': 'Location_id',\n",
    "    'GME_ID' : 'Municipality_Id',\n",
    "    'GME_NAAM': 'Municipality_name',\n",
    "    'PVE_CODE' : 'Province_Id',\n",
    "    'PVE_NAAM' : 'Province_name',\n",
    "}\n",
    "\n",
    "df_200m_filtered = df_200m_filtered.rename(columns=new_column_names)\n",
    "df_400m_filtered = df_400m_filtered.rename(columns=new_column_names)"
   ]
  },
  {
   "cell_type": "markdown",
   "metadata": {},
   "source": [
    "# Read & Merge BAG"
   ]
  },
  {
   "cell_type": "code",
   "execution_count": 10,
   "metadata": {},
   "outputs": [
    {
     "name": "stderr",
     "output_type": "stream",
     "text": [
      "/Users/jorissoolsma/Desktop/Programming/.venv/lib/python3.13/site-packages/pyogrio/raw.py:198: RuntimeWarning: File /Users/jorissoolsma/Desktop/Programming/Datasets/BAG/bag-light.gpkg 2 has GPKG application_id, but non conformant file extension\n",
      "  return ogr_read(\n"
     ]
    }
   ],
   "source": [
    "import geopandas as gpd\n",
    "import pandas as pd\n",
    "\n",
    "# Load BAG data\n",
    "bag_path = '/Users/jorissoolsma/Desktop/Programming/Datasets/BAG/bag-light.gpkg 2'\n",
    "bag = gpd.read_file(bag_path, layer='pand')[['bouwjaar', 'gebruiksdoel', 'geometry']]\n",
    "\n",
    "# Convert polygons to centroids\n",
    "bag['geometry'] = bag.geometry.centroid\n",
    "\n",
    "# Remove invalid years\n",
    "bag = bag[bag['bouwjaar'] != 9999]\n",
    "\n",
    "# Simplify gebruiksdoel\n",
    "def simplify_gebruiksdoel(value):\n",
    "    if pd.isna(value):\n",
    "        return value\n",
    "    if ',' in value:\n",
    "        return 'mixed_usage'\n",
    "    return value\n",
    "\n",
    "bag['gebruiksdoel_simplified'] = bag['gebruiksdoel'].apply(simplify_gebruiksdoel)\n",
    "bag = bag.drop(columns='gebruiksdoel')\n"
   ]
  },
  {
   "cell_type": "code",
   "execution_count": 11,
   "metadata": {},
   "outputs": [],
   "source": [
    "def process_buffer_batches(buffers_gdf, points_gdf, buffer_col, batch_size=100, total=None):\n",
    "    \"\"\"\n",
    "    Joins BAG points to buffer polygons in batches and aggregates counts of 'gebruiksdoel_simplified'.\n",
    "\n",
    "    Parameters:\n",
    "        buffers_gdf (GeoDataFrame): GeoDataFrame with buffer geometry (e.g., 'buffer_200m').\n",
    "        points_gdf (GeoDataFrame): BAG data with 'gebruiksdoel_simplified' and point geometry.\n",
    "        buffer_col (str): Name of the buffer geometry column to use.\n",
    "        batch_size (int): Number of buffers per batch.\n",
    "        total (int): Total number of buffers to process (optional).\n",
    "\n",
    "    Returns:\n",
    "        pd.DataFrame: Aggregated counts of usage types per buffer.\n",
    "    \"\"\"\n",
    "    if total is None:\n",
    "        total = len(buffers_gdf)\n",
    "\n",
    "    results = []\n",
    "\n",
    "    for start in range(0, total, batch_size):\n",
    "        end = min(start + batch_size, total)\n",
    "        print(f\"Processing batch {start} to {end - 1}...\")\n",
    "\n",
    "        batch = buffers_gdf.iloc[start:end].copy()\n",
    "        batch = batch.set_geometry(buffer_col)\n",
    "\n",
    "        joined = gpd.sjoin(points_gdf, batch, how='inner', predicate='within')\n",
    "\n",
    "        agg = (\n",
    "            joined.groupby(['Accident_Id', 'gebruiksdoel_simplified'])\n",
    "            .size()\n",
    "            .unstack(fill_value=0)\n",
    "            .add_suffix(f'_count_{buffer_col[-4:]}')\n",
    "            .reset_index()\n",
    "        )\n",
    "\n",
    "        results.append(agg)\n",
    "\n",
    "    return pd.concat(results, ignore_index=True)\n"
   ]
  },
  {
   "cell_type": "code",
   "execution_count": 12,
   "metadata": {},
   "outputs": [
    {
     "name": "stdout",
     "output_type": "stream",
     "text": [
      "Processing batch 0 to 99999...\n",
      "Processing batch 100000 to 199999...\n",
      "Processing batch 200000 to 299999...\n",
      "Processing batch 300000 to 399999...\n",
      "Processing batch 400000 to 499999...\n",
      "Processing batch 500000 to 599999...\n",
      "Processing batch 600000 to 699999...\n",
      "Processing batch 700000 to 724110...\n",
      "Processing batch 0 to 99999...\n",
      "Processing batch 100000 to 199999...\n",
      "Processing batch 200000 to 299999...\n",
      "Processing batch 300000 to 399999...\n",
      "Processing batch 400000 to 499999...\n",
      "Processing batch 500000 to 599999...\n",
      "Processing batch 600000 to 699999...\n",
      "Processing batch 700000 to 724110...\n"
     ]
    }
   ],
   "source": [
    "# Prepare buffer GeoDataFrames\n",
    "bron_buffer_200m = df_200m_filtered[['Accident_Id', 'buffer_200m']].copy()\n",
    "bron_buffer_400m = df_400m_filtered[['Accident_Id', 'buffer_400m']].copy()\n",
    "\n",
    "# Run aggregation\n",
    "result_200m = process_buffer_batches(\n",
    "    buffers_gdf=bron_buffer_200m,\n",
    "    points_gdf=bag,\n",
    "    buffer_col='buffer_200m',\n",
    "    batch_size=100000,\n",
    "    total=bron_buffer_200m.shape[0]\n",
    ")\n",
    "\n",
    "result_400m = process_buffer_batches(\n",
    "    buffers_gdf=bron_buffer_400m,\n",
    "    points_gdf=bag,\n",
    "    buffer_col='buffer_400m',\n",
    "    batch_size=100000,\n",
    "    total=bron_buffer_400m.shape[0]\n",
    ")"
   ]
  },
  {
   "cell_type": "code",
   "execution_count": 13,
   "metadata": {},
   "outputs": [],
   "source": [
    "column_translation = {\n",
    "    \"bijeenkomstfunctie_count_100m\": \"assembly_function_count_100m\",\n",
    "    \"celfunctie_count_100m\": \"detention_function_count_100m\",  \n",
    "    \"gezondheidszorgfunctie_count_100m\": \"healthcare_function_count_100m\",\n",
    "    \"industriefunctie_count_100m\": \"industrial_function_count_100m\",\n",
    "    \"kantoorfunctie_count_100m\": \"office_function_count_100m\",\n",
    "    \"logiesfunctie_count_100m\": \"lodging_function_count_100m\",\n",
    "    \"mixed_usage_count_100m\": \"mixed_usage_count_100m\",\n",
    "    \"onderwijsfunctie_count_100m\": \"educational_function_count_100m\",\n",
    "    \"overige gebruiksfunctie_count_100m\": \"other_usage_function_count_100m\",\n",
    "    \"sportfunctie_count_100m\": \"sports_function_count_100m\",\n",
    "    \"winkelfunctie_count_100m\": \"retail_function_count_100m\",\n",
    "    \"woonfunctie_count_100m\": \"residential_function_count_100m\"\n",
    "}\n",
    "\n",
    "column_translation_200m = {k.replace(\"100m\", \"200m\"): v.replace(\"100m\", \"200m\") for k, v in column_translation.items()}\n",
    "column_translation_400m = {k.replace(\"100m\", \"400m\"): v.replace(\"100m\", \"400m\") for k, v in column_translation.items()}\n",
    "\n",
    "df_2 = result_200m.rename(columns=column_translation_200m)\n",
    "df_4 = result_400m.rename(columns=column_translation_400m)\n"
   ]
  },
  {
   "cell_type": "code",
   "execution_count": 14,
   "metadata": {},
   "outputs": [],
   "source": [
    "df_200m_merged = df_200m_filtered.merge(df_2, on='Accident_Id', how='left')\n",
    "df_400m_merged = df_400m_filtered.merge(df_4, on='Accident_Id', how='left')"
   ]
  },
  {
   "cell_type": "code",
   "execution_count": 15,
   "metadata": {},
   "outputs": [
    {
     "data": {
      "text/plain": [
       "['/Users/jorissoolsma/Desktop/Programming/Datasets/Checkpoints_2/df_400']"
      ]
     },
     "execution_count": 15,
     "metadata": {},
     "output_type": "execute_result"
    }
   ],
   "source": [
    "joblib.dump(df_200m_merged, '/Users/jorissoolsma/Desktop/Programming/Datasets/Checkpoints_2/df_200')\n",
    "joblib.dump(df_400m_merged, '/Users/jorissoolsma/Desktop/Programming/Datasets/Checkpoints_2/df_400')"
   ]
  },
  {
   "cell_type": "markdown",
   "metadata": {},
   "source": [
    "### age buildings"
   ]
  },
  {
   "cell_type": "code",
   "execution_count": 16,
   "metadata": {},
   "outputs": [],
   "source": [
    "from datetime import datetime\n",
    "import geopandas as gpd\n",
    "\n",
    "def average_bouwjaar_age(buffers_gdf, points_gdf, buffer_col='buffer_100m'):\n",
    "    \"\"\"\n",
    "    Computes the average age of buildings (based on bouwjaar) per buffer polygon.\n",
    "\n",
    "    Parameters:\n",
    "        buffers_gdf (GeoDataFrame): Contains 'Accident_Id' and buffer column (e.g. 'buffer_200m').\n",
    "        points_gdf (GeoDataFrame): Contains building points with 'bouwjaar' column.\n",
    "        buffer_col (str): Name of the buffer geometry column to use.\n",
    "\n",
    "    Returns:\n",
    "        pd.DataFrame: Columns: ['Accident_Id', 'average_age']\n",
    "    \"\"\"\n",
    "    # Ensure both layers are in same Dutch CRS\n",
    "    buffers_gdf = buffers_gdf.to_crs(epsg=28992)\n",
    "    points_gdf = points_gdf.to_crs(epsg=28992)\n",
    "\n",
    "    # Set the active geometry to the buffer\n",
    "    buffers = buffers_gdf.set_geometry(buffer_col)\n",
    "\n",
    "    # Spatial join: buildings within buffer\n",
    "    joined = gpd.sjoin(points_gdf, buffers, how='inner', predicate='within')\n",
    "\n",
    "    # Calculate building age\n",
    "    current_year = datetime.now().year\n",
    "    joined['age'] = current_year - joined['bouwjaar']\n",
    "\n",
    "    # Filter out unreasonable ages\n",
    "    joined = joined[(joined['age'] > 0) & (joined['age'] < 200)]\n",
    "\n",
    "    # Average age per accident\n",
    "    avg_age = joined.groupby('Accident_Id')['age'].mean().reset_index()\n",
    "    avg_age = avg_age.rename(columns={'age': 'average_age'})\n",
    "\n",
    "    return avg_age\n"
   ]
  },
  {
   "cell_type": "code",
   "execution_count": 20,
   "metadata": {},
   "outputs": [],
   "source": [
    "avg_age_200m = average_bouwjaar_age(bron_buffer_200m, bag, buffer_col='buffer_200m')\n",
    "\n"
   ]
  },
  {
   "cell_type": "code",
   "execution_count": 22,
   "metadata": {},
   "outputs": [],
   "source": [
    "avg_age_400m = average_bouwjaar_age(bron_buffer_400m, bag, buffer_col='buffer_400m')"
   ]
  },
  {
   "cell_type": "code",
   "execution_count": 23,
   "metadata": {},
   "outputs": [],
   "source": [
    "df_200_post_bag =  df_200m_merged.merge(avg_age_200m, on= 'Accident_Id', how = 'left')"
   ]
  },
  {
   "cell_type": "code",
   "execution_count": 25,
   "metadata": {},
   "outputs": [],
   "source": [
    "df_400_post_bag =  df_400m_merged.merge(avg_age_400m, on= 'Accident_Id', how = 'left')"
   ]
  },
  {
   "cell_type": "code",
   "execution_count": 26,
   "metadata": {},
   "outputs": [
    {
     "data": {
      "text/html": [
       "<div>\n",
       "<style scoped>\n",
       "    .dataframe tbody tr th:only-of-type {\n",
       "        vertical-align: middle;\n",
       "    }\n",
       "\n",
       "    .dataframe tbody tr th {\n",
       "        vertical-align: top;\n",
       "    }\n",
       "\n",
       "    .dataframe thead th {\n",
       "        text-align: right;\n",
       "    }\n",
       "</style>\n",
       "<table border=\"1\" class=\"dataframe\">\n",
       "  <thead>\n",
       "    <tr style=\"text-align: right;\">\n",
       "      <th></th>\n",
       "      <th>Accident_Id</th>\n",
       "      <th>Year</th>\n",
       "      <th>Severity_level</th>\n",
       "      <th>Nr_of_parties</th>\n",
       "      <th>Nature_of_accident</th>\n",
       "      <th>Location_accuracy</th>\n",
       "      <th>Road_segment_type</th>\n",
       "      <th>Urban_zone</th>\n",
       "      <th>Max_speed</th>\n",
       "      <th>Streetlight_status</th>\n",
       "      <th>...</th>\n",
       "      <th>industrial_function_count_400m</th>\n",
       "      <th>office_function_count_400m</th>\n",
       "      <th>lodging_function_count_400m</th>\n",
       "      <th>mixed_usage_count_400m</th>\n",
       "      <th>educational_function_count_400m</th>\n",
       "      <th>other_usage_function_count_400m</th>\n",
       "      <th>sports_function_count_400m</th>\n",
       "      <th>retail_function_count_400m</th>\n",
       "      <th>residential_function_count_400m</th>\n",
       "      <th>average_age</th>\n",
       "    </tr>\n",
       "  </thead>\n",
       "  <tbody>\n",
       "    <tr>\n",
       "      <th>0</th>\n",
       "      <td>20170096239</td>\n",
       "      <td>2017</td>\n",
       "      <td>UMS</td>\n",
       "      <td>2</td>\n",
       "      <td>7</td>\n",
       "      <td>E</td>\n",
       "      <td>5.0</td>\n",
       "      <td>BI</td>\n",
       "      <td>50.0</td>\n",
       "      <td>2.0</td>\n",
       "      <td>...</td>\n",
       "      <td>0.0</td>\n",
       "      <td>2.0</td>\n",
       "      <td>1.0</td>\n",
       "      <td>44.0</td>\n",
       "      <td>1.0</td>\n",
       "      <td>21.0</td>\n",
       "      <td>1.0</td>\n",
       "      <td>2.0</td>\n",
       "      <td>945.0</td>\n",
       "      <td>75.621139</td>\n",
       "    </tr>\n",
       "    <tr>\n",
       "      <th>1</th>\n",
       "      <td>20170096245</td>\n",
       "      <td>2017</td>\n",
       "      <td>LET</td>\n",
       "      <td>2</td>\n",
       "      <td>7</td>\n",
       "      <td>E</td>\n",
       "      <td>5.0</td>\n",
       "      <td>BI</td>\n",
       "      <td>30.0</td>\n",
       "      <td>2.0</td>\n",
       "      <td>...</td>\n",
       "      <td>2.0</td>\n",
       "      <td>1.0</td>\n",
       "      <td>0.0</td>\n",
       "      <td>9.0</td>\n",
       "      <td>1.0</td>\n",
       "      <td>3.0</td>\n",
       "      <td>0.0</td>\n",
       "      <td>4.0</td>\n",
       "      <td>323.0</td>\n",
       "      <td>44.614187</td>\n",
       "    </tr>\n",
       "    <tr>\n",
       "      <th>2</th>\n",
       "      <td>20170096247</td>\n",
       "      <td>2017</td>\n",
       "      <td>LET</td>\n",
       "      <td>2</td>\n",
       "      <td>6</td>\n",
       "      <td>E</td>\n",
       "      <td>4.0</td>\n",
       "      <td>BI</td>\n",
       "      <td>30.0</td>\n",
       "      <td>2.0</td>\n",
       "      <td>...</td>\n",
       "      <td>2.0</td>\n",
       "      <td>0.0</td>\n",
       "      <td>0.0</td>\n",
       "      <td>33.0</td>\n",
       "      <td>1.0</td>\n",
       "      <td>131.0</td>\n",
       "      <td>2.0</td>\n",
       "      <td>2.0</td>\n",
       "      <td>946.0</td>\n",
       "      <td>53.493652</td>\n",
       "    </tr>\n",
       "    <tr>\n",
       "      <th>3</th>\n",
       "      <td>20170096274</td>\n",
       "      <td>2017</td>\n",
       "      <td>UMS</td>\n",
       "      <td>4</td>\n",
       "      <td>8</td>\n",
       "      <td>E</td>\n",
       "      <td>1.0</td>\n",
       "      <td>BU</td>\n",
       "      <td>100.0</td>\n",
       "      <td>2.0</td>\n",
       "      <td>...</td>\n",
       "      <td>0.0</td>\n",
       "      <td>10.0</td>\n",
       "      <td>0.0</td>\n",
       "      <td>1.0</td>\n",
       "      <td>0.0</td>\n",
       "      <td>6.0</td>\n",
       "      <td>0.0</td>\n",
       "      <td>0.0</td>\n",
       "      <td>318.0</td>\n",
       "      <td>45.203338</td>\n",
       "    </tr>\n",
       "    <tr>\n",
       "      <th>4</th>\n",
       "      <td>20170096276</td>\n",
       "      <td>2017</td>\n",
       "      <td>UMS</td>\n",
       "      <td>2</td>\n",
       "      <td>7</td>\n",
       "      <td>E</td>\n",
       "      <td>5.0</td>\n",
       "      <td>BI</td>\n",
       "      <td>50.0</td>\n",
       "      <td>1.0</td>\n",
       "      <td>...</td>\n",
       "      <td>3.0</td>\n",
       "      <td>0.0</td>\n",
       "      <td>0.0</td>\n",
       "      <td>11.0</td>\n",
       "      <td>6.0</td>\n",
       "      <td>22.0</td>\n",
       "      <td>2.0</td>\n",
       "      <td>0.0</td>\n",
       "      <td>215.0</td>\n",
       "      <td>55.111111</td>\n",
       "    </tr>\n",
       "    <tr>\n",
       "      <th>...</th>\n",
       "      <td>...</td>\n",
       "      <td>...</td>\n",
       "      <td>...</td>\n",
       "      <td>...</td>\n",
       "      <td>...</td>\n",
       "      <td>...</td>\n",
       "      <td>...</td>\n",
       "      <td>...</td>\n",
       "      <td>...</td>\n",
       "      <td>...</td>\n",
       "      <td>...</td>\n",
       "      <td>...</td>\n",
       "      <td>...</td>\n",
       "      <td>...</td>\n",
       "      <td>...</td>\n",
       "      <td>...</td>\n",
       "      <td>...</td>\n",
       "      <td>...</td>\n",
       "      <td>...</td>\n",
       "      <td>...</td>\n",
       "      <td>...</td>\n",
       "    </tr>\n",
       "    <tr>\n",
       "      <th>724106</th>\n",
       "      <td>20230090445</td>\n",
       "      <td>2023</td>\n",
       "      <td>LET</td>\n",
       "      <td>2</td>\n",
       "      <td>9</td>\n",
       "      <td>E</td>\n",
       "      <td>1.0</td>\n",
       "      <td>BI</td>\n",
       "      <td>50.0</td>\n",
       "      <td>2.0</td>\n",
       "      <td>...</td>\n",
       "      <td>24.0</td>\n",
       "      <td>1.0</td>\n",
       "      <td>0.0</td>\n",
       "      <td>13.0</td>\n",
       "      <td>0.0</td>\n",
       "      <td>3.0</td>\n",
       "      <td>1.0</td>\n",
       "      <td>0.0</td>\n",
       "      <td>30.0</td>\n",
       "      <td>37.116505</td>\n",
       "    </tr>\n",
       "    <tr>\n",
       "      <th>724107</th>\n",
       "      <td>20230090446</td>\n",
       "      <td>2023</td>\n",
       "      <td>UMS</td>\n",
       "      <td>2</td>\n",
       "      <td>7</td>\n",
       "      <td>E</td>\n",
       "      <td>5.0</td>\n",
       "      <td>BU</td>\n",
       "      <td>70.0</td>\n",
       "      <td>1.0</td>\n",
       "      <td>...</td>\n",
       "      <td>20.0</td>\n",
       "      <td>2.0</td>\n",
       "      <td>0.0</td>\n",
       "      <td>6.0</td>\n",
       "      <td>1.0</td>\n",
       "      <td>2.0</td>\n",
       "      <td>0.0</td>\n",
       "      <td>0.0</td>\n",
       "      <td>25.0</td>\n",
       "      <td>40.390805</td>\n",
       "    </tr>\n",
       "    <tr>\n",
       "      <th>724108</th>\n",
       "      <td>20230090447</td>\n",
       "      <td>2023</td>\n",
       "      <td>UMS</td>\n",
       "      <td>2</td>\n",
       "      <td>7</td>\n",
       "      <td>K</td>\n",
       "      <td>4.0</td>\n",
       "      <td>BI</td>\n",
       "      <td>50.0</td>\n",
       "      <td>2.0</td>\n",
       "      <td>...</td>\n",
       "      <td>0.0</td>\n",
       "      <td>0.0</td>\n",
       "      <td>0.0</td>\n",
       "      <td>3.0</td>\n",
       "      <td>0.0</td>\n",
       "      <td>0.0</td>\n",
       "      <td>0.0</td>\n",
       "      <td>0.0</td>\n",
       "      <td>44.0</td>\n",
       "      <td>45.710744</td>\n",
       "    </tr>\n",
       "    <tr>\n",
       "      <th>724109</th>\n",
       "      <td>20230090450</td>\n",
       "      <td>2023</td>\n",
       "      <td>LET</td>\n",
       "      <td>2</td>\n",
       "      <td>7</td>\n",
       "      <td>E</td>\n",
       "      <td>4.0</td>\n",
       "      <td>BI</td>\n",
       "      <td>15.0</td>\n",
       "      <td>3.0</td>\n",
       "      <td>...</td>\n",
       "      <td>7.0</td>\n",
       "      <td>6.0</td>\n",
       "      <td>0.0</td>\n",
       "      <td>70.0</td>\n",
       "      <td>4.0</td>\n",
       "      <td>26.0</td>\n",
       "      <td>1.0</td>\n",
       "      <td>25.0</td>\n",
       "      <td>874.0</td>\n",
       "      <td>59.816878</td>\n",
       "    </tr>\n",
       "    <tr>\n",
       "      <th>724110</th>\n",
       "      <td>20230012799</td>\n",
       "      <td>2023</td>\n",
       "      <td>UMS</td>\n",
       "      <td>2</td>\n",
       "      <td>2</td>\n",
       "      <td>E</td>\n",
       "      <td>1.0</td>\n",
       "      <td>BI</td>\n",
       "      <td>30.0</td>\n",
       "      <td>1.0</td>\n",
       "      <td>...</td>\n",
       "      <td>3.0</td>\n",
       "      <td>3.0</td>\n",
       "      <td>0.0</td>\n",
       "      <td>9.0</td>\n",
       "      <td>2.0</td>\n",
       "      <td>111.0</td>\n",
       "      <td>2.0</td>\n",
       "      <td>11.0</td>\n",
       "      <td>890.0</td>\n",
       "      <td>68.545207</td>\n",
       "    </tr>\n",
       "  </tbody>\n",
       "</table>\n",
       "<p>724111 rows × 50 columns</p>\n",
       "</div>"
      ],
      "text/plain": [
       "        Accident_Id  Year Severity_level  Nr_of_parties  Nature_of_accident  \\\n",
       "0       20170096239  2017            UMS              2                   7   \n",
       "1       20170096245  2017            LET              2                   7   \n",
       "2       20170096247  2017            LET              2                   6   \n",
       "3       20170096274  2017            UMS              4                   8   \n",
       "4       20170096276  2017            UMS              2                   7   \n",
       "...             ...   ...            ...            ...                 ...   \n",
       "724106  20230090445  2023            LET              2                   9   \n",
       "724107  20230090446  2023            UMS              2                   7   \n",
       "724108  20230090447  2023            UMS              2                   7   \n",
       "724109  20230090450  2023            LET              2                   7   \n",
       "724110  20230012799  2023            UMS              2                   2   \n",
       "\n",
       "       Location_accuracy  Road_segment_type Urban_zone  Max_speed  \\\n",
       "0                      E                5.0         BI       50.0   \n",
       "1                      E                5.0         BI       30.0   \n",
       "2                      E                4.0         BI       30.0   \n",
       "3                      E                1.0         BU      100.0   \n",
       "4                      E                5.0         BI       50.0   \n",
       "...                  ...                ...        ...        ...   \n",
       "724106                 E                1.0         BI       50.0   \n",
       "724107                 E                5.0         BU       70.0   \n",
       "724108                 K                4.0         BI       50.0   \n",
       "724109                 E                4.0         BI       15.0   \n",
       "724110                 E                1.0         BI       30.0   \n",
       "\n",
       "        Streetlight_status  ...  industrial_function_count_400m  \\\n",
       "0                      2.0  ...                             0.0   \n",
       "1                      2.0  ...                             2.0   \n",
       "2                      2.0  ...                             2.0   \n",
       "3                      2.0  ...                             0.0   \n",
       "4                      1.0  ...                             3.0   \n",
       "...                    ...  ...                             ...   \n",
       "724106                 2.0  ...                            24.0   \n",
       "724107                 1.0  ...                            20.0   \n",
       "724108                 2.0  ...                             0.0   \n",
       "724109                 3.0  ...                             7.0   \n",
       "724110                 1.0  ...                             3.0   \n",
       "\n",
       "       office_function_count_400m  lodging_function_count_400m  \\\n",
       "0                             2.0                          1.0   \n",
       "1                             1.0                          0.0   \n",
       "2                             0.0                          0.0   \n",
       "3                            10.0                          0.0   \n",
       "4                             0.0                          0.0   \n",
       "...                           ...                          ...   \n",
       "724106                        1.0                          0.0   \n",
       "724107                        2.0                          0.0   \n",
       "724108                        0.0                          0.0   \n",
       "724109                        6.0                          0.0   \n",
       "724110                        3.0                          0.0   \n",
       "\n",
       "        mixed_usage_count_400m educational_function_count_400m  \\\n",
       "0                         44.0                             1.0   \n",
       "1                          9.0                             1.0   \n",
       "2                         33.0                             1.0   \n",
       "3                          1.0                             0.0   \n",
       "4                         11.0                             6.0   \n",
       "...                        ...                             ...   \n",
       "724106                    13.0                             0.0   \n",
       "724107                     6.0                             1.0   \n",
       "724108                     3.0                             0.0   \n",
       "724109                    70.0                             4.0   \n",
       "724110                     9.0                             2.0   \n",
       "\n",
       "       other_usage_function_count_400m  sports_function_count_400m  \\\n",
       "0                                 21.0                         1.0   \n",
       "1                                  3.0                         0.0   \n",
       "2                                131.0                         2.0   \n",
       "3                                  6.0                         0.0   \n",
       "4                                 22.0                         2.0   \n",
       "...                                ...                         ...   \n",
       "724106                             3.0                         1.0   \n",
       "724107                             2.0                         0.0   \n",
       "724108                             0.0                         0.0   \n",
       "724109                            26.0                         1.0   \n",
       "724110                           111.0                         2.0   \n",
       "\n",
       "        retail_function_count_400m residential_function_count_400m  \\\n",
       "0                              2.0                           945.0   \n",
       "1                              4.0                           323.0   \n",
       "2                              2.0                           946.0   \n",
       "3                              0.0                           318.0   \n",
       "4                              0.0                           215.0   \n",
       "...                            ...                             ...   \n",
       "724106                         0.0                            30.0   \n",
       "724107                         0.0                            25.0   \n",
       "724108                         0.0                            44.0   \n",
       "724109                        25.0                           874.0   \n",
       "724110                        11.0                           890.0   \n",
       "\n",
       "        average_age  \n",
       "0         75.621139  \n",
       "1         44.614187  \n",
       "2         53.493652  \n",
       "3         45.203338  \n",
       "4         55.111111  \n",
       "...             ...  \n",
       "724106    37.116505  \n",
       "724107    40.390805  \n",
       "724108    45.710744  \n",
       "724109    59.816878  \n",
       "724110    68.545207  \n",
       "\n",
       "[724111 rows x 50 columns]"
      ]
     },
     "execution_count": 26,
     "metadata": {},
     "output_type": "execute_result"
    }
   ],
   "source": [
    "df_400_post_bag"
   ]
  },
  {
   "cell_type": "code",
   "execution_count": 27,
   "metadata": {},
   "outputs": [
    {
     "data": {
      "text/plain": [
       "['/Users/jorissoolsma/Desktop/Programming/Datasets/Checkpoints_2/df200_df400_post_avgage']"
      ]
     },
     "execution_count": 27,
     "metadata": {},
     "output_type": "execute_result"
    }
   ],
   "source": [
    "joblib.dump((df_200_post_bag, df_400_post_bag), '/Users/jorissoolsma/Desktop/Programming/Datasets/Checkpoints_2/df200_df400_post_avgage')"
   ]
  },
  {
   "cell_type": "markdown",
   "metadata": {},
   "source": [
    "# wegvakken"
   ]
  },
  {
   "cell_type": "code",
   "execution_count": 68,
   "metadata": {},
   "outputs": [],
   "source": [
    "wegvakken = pd.read_csv('/Users/jorissoolsma/Desktop/BRON_2022/Netwerkgegevens/wegvakken.txt', usecols= ['WVK_ID','BST_CODE'])"
   ]
  },
  {
   "cell_type": "code",
   "execution_count": 91,
   "metadata": {},
   "outputs": [],
   "source": [
    "post_wegvak_200 = df_200_post_bag.merge(wegvakken, on = 'WVK_ID', how = 'left')\n",
    "post_wegvak_400 = df_400_post_bag.merge(wegvakken, on = 'WVK_ID', how = 'left')\n"
   ]
  },
  {
   "cell_type": "markdown",
   "metadata": {},
   "source": [
    "# Road categories"
   ]
  },
  {
   "cell_type": "code",
   "execution_count": 92,
   "metadata": {},
   "outputs": [],
   "source": [
    "road_category = pd.read_csv('/Users/jorissoolsma/Desktop/Programming/Datasets/Wegcategorien/wkd_011-WEG_CAT.csv', sep = ';', usecols= ['WEGVAK_ID','WEG_CAT'])"
   ]
  },
  {
   "cell_type": "code",
   "execution_count": 94,
   "metadata": {},
   "outputs": [],
   "source": [
    "post_road_cat_200 = post_wegvak_200.merge(road_category, left_on= 'WVK_ID', right_on= 'WEGVAK_ID', how= 'left').drop(columns='WEGVAK_ID')\n",
    "post_road_cat_400 = post_wegvak_400.merge(road_category, left_on= 'WVK_ID', right_on= 'WEGVAK_ID', how= 'left').drop(columns='WEGVAK_ID')\n"
   ]
  },
  {
   "cell_type": "code",
   "execution_count": 95,
   "metadata": {},
   "outputs": [],
   "source": [
    "post_road_cat_200 = post_road_cat_200.drop_duplicates(subset= 'Accident_Id', keep= 'first')\n",
    "post_road_cat_400 = post_road_cat_400.drop_duplicates(subset= 'Accident_Id', keep= 'first')\n"
   ]
  },
  {
   "cell_type": "markdown",
   "metadata": {},
   "source": [
    "# rudifun"
   ]
  },
  {
   "cell_type": "code",
   "execution_count": 89,
   "metadata": {},
   "outputs": [
    {
     "name": "stderr",
     "output_type": "stream",
     "text": [
      "/Users/jorissoolsma/Desktop/Programming/.venv/lib/python3.13/site-packages/pyogrio/raw.py:198: RuntimeWarning: organizePolygons() received a polygon with more than 100 parts.  The processing may be really slow.  You can skip the processing by setting METHOD=SKIP.\n",
      "  return ogr_read(\n"
     ]
    }
   ],
   "source": [
    "# Read GeoDatabase\n",
    "gdb_path = \"/Users/jorissoolsma/Downloads/Rudifun_NL_v2022_fgdb/Rudifun_v2022.gdb\"\n",
    "\n",
    "# rudifun = gpd.read_file(gdb_path, layer='Rudifun_1_Netto_Bouwblok')\n",
    "\n",
    "rudifun = gpd.read_file(gdb_path, layer='Rudifun_1_Netto_Bouwblok', columns=['FSI_22', 'GSI_22','OSR_22', 'L_22', 'MXI_22', 'geometry'])\n",
    "\n",
    "#Drop data from the years 2015\n",
    "rudifun = rudifun[[col for col in rudifun.columns if not col.endswith(\"_15\")]]"
   ]
  },
  {
   "cell_type": "code",
   "execution_count": 126,
   "metadata": {},
   "outputs": [],
   "source": [
    "# subset accidents\n",
    "non_highway_accidents_200 = post_road_cat_200[post_road_cat_200['WEG_CAT'] != 'autosnelweg']\n",
    "non_highway_accidents_400 = post_road_cat_400[post_road_cat_400['WEG_CAT'] != 'autosnelweg']\n",
    "non_highway_accidents_200 = non_highway_accidents_200.set_geometry('buffer_200m')\n",
    "non_highway_accidents_400 = non_highway_accidents_400.set_geometry('buffer_400m')"
   ]
  },
  {
   "cell_type": "code",
   "execution_count": 106,
   "metadata": {},
   "outputs": [],
   "source": [
    "# intersect buffer with environment\n",
    "intersection_200 = non_highway_accidents_200.sjoin(rudifun, how = 'left', predicate= 'intersects')\n",
    "intersection_400 = non_highway_accidents_400.sjoin(rudifun, how = 'left', predicate= 'intersects')"
   ]
  },
  {
   "cell_type": "code",
   "execution_count": 108,
   "metadata": {},
   "outputs": [],
   "source": [
    "agg_stats_200 = intersection_200.groupby('Accident_Id').agg({\n",
    "    'FSI_22': ['mean', 'std', 'min', 'max'],\n",
    "    'GSI_22': ['mean', 'std', 'min', 'max'],\n",
    "    'OSR_22': ['mean', 'std', 'min', 'max'],\n",
    "    'L_22':   ['mean', 'std', 'min', 'max'],\n",
    "    'MXI_22': ['mean', 'std', 'min', 'max']\n",
    "})\n",
    "\n",
    "agg_stats_200.columns = [f\"{col[0]}_{col[1]}\" for col in agg_stats_200.columns]\n",
    "agg_stats_200 = agg_stats_200.reset_index()"
   ]
  },
  {
   "cell_type": "code",
   "execution_count": 109,
   "metadata": {},
   "outputs": [],
   "source": [
    "agg_stats_400 = intersection_400.groupby('Accident_Id').agg({\n",
    "    'FSI_22': ['mean', 'std', 'min', 'max'],\n",
    "    'GSI_22': ['mean', 'std', 'min', 'max'],\n",
    "    'OSR_22': ['mean', 'std', 'min', 'max'],\n",
    "    'L_22':   ['mean', 'std', 'min', 'max'],\n",
    "    'MXI_22': ['mean', 'std', 'min', 'max']\n",
    "})\n",
    "\n",
    "agg_stats_400.columns = [f\"{col[0]}_{col[1]}\" for col in agg_stats_400.columns]\n",
    "agg_stats_400 = agg_stats_400.reset_index()"
   ]
  },
  {
   "cell_type": "code",
   "execution_count": 110,
   "metadata": {},
   "outputs": [],
   "source": [
    "both_200 = non_highway_accidents_200.merge(agg_stats_200, on = 'Accident_Id', how = 'left')\n",
    "both_400 = non_highway_accidents_400.merge(agg_stats_400, on = 'Accident_Id', how = 'left')"
   ]
  },
  {
   "cell_type": "code",
   "execution_count": 127,
   "metadata": {},
   "outputs": [
    {
     "data": {
      "text/plain": [
       "(724111, 52)"
      ]
     },
     "execution_count": 127,
     "metadata": {},
     "output_type": "execute_result"
    }
   ],
   "source": [
    "post_road_cat_200.shape"
   ]
  },
  {
   "cell_type": "code",
   "execution_count": 131,
   "metadata": {},
   "outputs": [],
   "source": [
    "# Drop overlapping columns in 'both'\n",
    "cols_to_add = both_200.columns.difference(post_road_cat_200.columns).tolist() + ['Accident_Id']\n",
    "\n",
    "# Mrge  on the extra columns from 'both'\n",
    "merged_200 = post_road_cat_200.merge(both_200[cols_to_add], \n",
    "                                     on='Accident_Id', how='left').set_index(post_road_cat_200.index)\n",
    "\n",
    "\n",
    "\n",
    "cols_to_add = both_400.columns.difference(post_road_cat_400.columns).tolist() + ['Accident_Id']\n",
    "\n",
    "# Mrge  on the extra columns from 'both'\n",
    "merged_400 = post_road_cat_400.merge(both_400[cols_to_add], \n",
    "                                     on='Accident_Id', how='left').set_index(post_road_cat_400.index)\n"
   ]
  },
  {
   "cell_type": "code",
   "execution_count": 133,
   "metadata": {},
   "outputs": [],
   "source": [
    "assert merged_200.index.equals(post_road_cat_400.index)"
   ]
  },
  {
   "cell_type": "code",
   "execution_count": 137,
   "metadata": {},
   "outputs": [],
   "source": [
    "merged_200 = merged_200.set_geometry(col= 'geometry')\n",
    "merged_400 = merged_400.set_geometry(col= 'geometry')"
   ]
  },
  {
   "cell_type": "code",
   "execution_count": 138,
   "metadata": {},
   "outputs": [
    {
     "data": {
      "text/plain": [
       "['/Users/jorissoolsma/Desktop/Programming/Datasets/Checkpoints_2/post_rudifun200_400.pkl']"
      ]
     },
     "execution_count": 138,
     "metadata": {},
     "output_type": "execute_result"
    }
   ],
   "source": [
    "joblib.dump((merged_200, merged_400), '/Users/jorissoolsma/Desktop/Programming/Datasets/Checkpoints_2/post_rudifun200_400.pkl')"
   ]
  },
  {
   "cell_type": "markdown",
   "metadata": {},
   "source": [
    "# cbs"
   ]
  },
  {
   "cell_type": "code",
   "execution_count": 142,
   "metadata": {},
   "outputs": [],
   "source": [
    "cols = [\n",
    "    'personenautos_per_huishouden', 'motortweewielers_totaal',\n",
    "    'ziekenhuis_incl_buitenpolikliniek_gem_afst_in_km', 'grote_supermarkt_gemiddelde_afstand_in_km',\n",
    "    'winkels_ov_dagelijkse_levensm_gem_afst_in_km', 'cafe_gemiddelde_afstand_in_km',\n",
    "    'restaurant_gemiddelde_afstand_in_km', 'kinderdagverblijf_gemiddelde_afstand_in_km',\n",
    "    'buitenschoolse_opvang_gem_afstand_in_km', 'basisonderwijs_gemiddelde_afstand_in_km',\n",
    "    'voortgezet_onderwijs_gem_afstand_in_km', 'vmbo_gemiddelde_afstand_in_km',\n",
    "    'havo_vwo_gemiddelde_afstand_in_km', 'brandweerkazerne_gemiddelde_afstand_in_km',\n",
    "    'oprit_hoofdverkeersweg_gemiddelde_afstand_in_km', 'treinstation_gemiddelde_afstand_in_km',\n",
    "    'percentage_bouwjaarklasse_vanaf_2000', 'percentage_bouwjaarklasse_tot_2000',\n",
    "    'gemiddelde_woningwaarde', 'bevolkingsdichtheid_inwoners_per_km2', 'geometry'\n",
    "]"
   ]
  },
  {
   "cell_type": "code",
   "execution_count": 143,
   "metadata": {},
   "outputs": [
    {
     "name": "stderr",
     "output_type": "stream",
     "text": [
      "/Users/jorissoolsma/Desktop/Programming/.venv/lib/python3.13/site-packages/pyogrio/geopandas.py:265: UserWarning: More than one layer found in 'wijkenbuurten_2023_v2.gpkg': 'buurten' (default), 'gemeenten', 'wijken'. Specify layer parameter to avoid this warning.\n",
      "  result = read_func(\n"
     ]
    }
   ],
   "source": [
    "cbs = gpd.read_file('/Users/jorissoolsma/Downloads/WijkBuurtkaart_2023_v2/wijkenbuurten_2023_v2.gpkg', columns=cols)"
   ]
  },
  {
   "cell_type": "code",
   "execution_count": 144,
   "metadata": {},
   "outputs": [],
   "source": [
    "cbs.replace({-99997: -1, -99995: -1}, inplace=True)"
   ]
  },
  {
   "cell_type": "code",
   "execution_count": 145,
   "metadata": {},
   "outputs": [],
   "source": [
    "post_cbs_200 = merged_200.sjoin(cbs, how = 'left', predicate= 'within' )\n",
    "post_cbs_400 = merged_400.sjoin(cbs, how = 'left', predicate= 'within' )"
   ]
  },
  {
   "cell_type": "code",
   "execution_count": 147,
   "metadata": {},
   "outputs": [
    {
     "data": {
      "text/plain": [
       "['/Users/jorissoolsma/Desktop/Programming/Datasets/Checkpoints_2/post_cbs_200_400']"
      ]
     },
     "execution_count": 147,
     "metadata": {},
     "output_type": "execute_result"
    }
   ],
   "source": [
    "joblib.dump((post_cbs_200, post_cbs_400), '/Users/jorissoolsma/Desktop/Programming/Datasets/Checkpoints_2/post_cbs_200_400')"
   ]
  },
  {
   "cell_type": "code",
   "execution_count": null,
   "metadata": {},
   "outputs": [],
   "source": [
    "# # visualize neighborhoods in cbs file\n",
    "# cbs[cbs.gemeentenaam == 'Breda'].plot(column= 'winkels_ov_dagelijkse_levensm_gem_afst_in_km', legend = True)"
   ]
  },
  {
   "cell_type": "markdown",
   "metadata": {},
   "source": [
    "# Preprocessing"
   ]
  },
  {
   "cell_type": "code",
   "execution_count": 3,
   "metadata": {},
   "outputs": [],
   "source": [
    "post_cbs_200, post_cbs_400 = joblib.load('/Users/jorissoolsma/Desktop/Programming/Datasets/Checkpoints_2/post_cbs_200_400')"
   ]
  },
  {
   "cell_type": "code",
   "execution_count": 4,
   "metadata": {},
   "outputs": [],
   "source": [
    "def apply_mappings(df):\n",
    "    road_surface_map = {\n",
    "        1: \"ZOAB\",\n",
    "        2: \"Overig asfalt\",\n",
    "        3: \"Beton\",\n",
    "        4: \"Klinkers\",\n",
    "        5: \"Onverhard\",\n",
    "        6: \"Grind tegels\",\n",
    "        7: \"Hout tegels\"\n",
    "    }\n",
    "\n",
    "    weather_map = {\n",
    "        \"D\": \"Dry\",\n",
    "        \"R\": \"Rain\",\n",
    "        \"M\": \"Fog\",\n",
    "        \"S\": \"Snow/Hail\",\n",
    "        \"H\": \"Strong gusts of wind\",\n",
    "        \"O\": \"Unknown\"\n",
    "    }\n",
    "\n",
    "    road_segment_map = {\n",
    "        1: \"Rechte weg\",\n",
    "        2: \"Bocht\",\n",
    "        3: \"Rotonde\",\n",
    "        4: \"Kruispunt 3 takken\",\n",
    "        5: \"Kruispunt 4 takken\",\n",
    "        6: \"Rechte weg - gescheiden rijbanen\",\n",
    "        7: \"Invoegstrook op (auto)snelweg\",\n",
    "        8: \"Uitvoegstrook op (auto)snelweg\"\n",
    "    }\n",
    "\n",
    "    collision_type = {\n",
    "        3: \"Animal\",\n",
    "        9: \"Single vehicle\",\n",
    "        7: \"Side impact\",\n",
    "        6: \"Head-on\",\n",
    "        2: \"Parked vehicle\",\n",
    "        8: \"Rear-end\",\n",
    "        5: \"Loose object\",\n",
    "        0: \"Unknown\",\n",
    "        4: \"Fixed object\",\n",
    "        1: \"Pedestrian\"\n",
    "    }\n",
    "\n",
    "    lighting_condition_dict = {\n",
    "        1: \"Lit\",\n",
    "        2: \"Not lit\",\n",
    "        3: \"Not present\"\n",
    "    }\n",
    "\n",
    "    surface_condition_dict = {\n",
    "        1: \"Dry\",\n",
    "        2: \"Wet\",\n",
    "        3: \"Snow/ice\"\n",
    "    }\n",
    "\n",
    "    light_map = {\n",
    "        1: \"Daylight\",\n",
    "        2: \"Darkness\",\n",
    "        3: \"Twilight\"\n",
    "    }\n",
    "\n",
    "\n",
    "    df['Road_surface'] = df['Road_surface'].map(road_surface_map)\n",
    "    df['Weather_conditions_1'] = df['Weather_conditions_1'].map(weather_map)\n",
    "    df['Weather_conditions_2'] = df['Weather_conditions_2'].map(weather_map)\n",
    "    df['Road_segment_type'] = df['Road_segment_type'].map(road_segment_map)\n",
    "    df['Nature_of_accident'] = df['Nature_of_accident'].map(collision_type)\n",
    "    df['Streetlight_status'] = df['Streetlight_status'].map(lighting_condition_dict)\n",
    "    df['Road_surface_condition'] = df['Road_surface_condition'].map(surface_condition_dict)\n",
    "    df['Natural_light'] = df['Natural_light'].map(light_map)\n",
    "\n",
    "\n",
    "\n",
    "    return df\n",
    "\n",
    "# Apply to both DataFrames\n",
    "post_cbs_200 = apply_mappings(post_cbs_200)\n",
    "post_cbs_400 = apply_mappings(post_cbs_400)\n"
   ]
  },
  {
   "cell_type": "code",
   "execution_count": 6,
   "metadata": {},
   "outputs": [],
   "source": [
    "post_cbs_200 = post_cbs_200[post_cbs_200['Nature_of_accident'] != 'Unknown']\n",
    "post_cbs_400 = post_cbs_400[post_cbs_400['Nature_of_accident'] != 'Unknown']"
   ]
  },
  {
   "cell_type": "code",
   "execution_count": 7,
   "metadata": {},
   "outputs": [],
   "source": [
    "post_cbs_200 = post_cbs_200[post_cbs_200['Location_accuracy'] != 'K']\n",
    "post_cbs_400 = post_cbs_400[post_cbs_400['Location_accuracy'] != 'K']"
   ]
  },
  {
   "cell_type": "code",
   "execution_count": 8,
   "metadata": {},
   "outputs": [],
   "source": [
    "post_cbs_200 = post_cbs_200[post_cbs_200['Nr_of_parties'] != 0]\n",
    "post_cbs_400 = post_cbs_400[post_cbs_400['Nr_of_parties'] != 0]"
   ]
  },
  {
   "cell_type": "code",
   "execution_count": 9,
   "metadata": {},
   "outputs": [],
   "source": [
    "post_cbs_200['Crossing'] = post_cbs_200['JTE_ID'].notna().astype(int)\n",
    "post_cbs_400['Crossing'] = post_cbs_400['JTE_ID'].notna().astype(int)"
   ]
  },
  {
   "cell_type": "markdown",
   "metadata": {},
   "source": [
    "### Check Crossing & Road Segment type"
   ]
  },
  {
   "cell_type": "code",
   "execution_count": 70,
   "metadata": {},
   "outputs": [],
   "source": [
    "# valid_if_crossing = {\n",
    "#     1: ['kruispunt 3 takken', 'kruispunt 4 takken', 'rotonde'],\n",
    "#     0: ['rechte weg', 'bocht', 'rechte weg - gescheiden rijbanen', \n",
    "#         'invoegstrook op autosnelweg', 'uitvoegstrook op autosnelweg']\n",
    "# }\n"
   ]
  },
  {
   "cell_type": "code",
   "execution_count": 71,
   "metadata": {},
   "outputs": [],
   "source": [
    "# post_cbs_200['road_segment_type_clean'] = (\n",
    "#     post_cbs_200['Road_segment_type']\n",
    "#       .str.lower()\n",
    "#       .str.replace(r'\\s*-\\s*', ' ', regex=True)\n",
    "#       .str.replace(r'[()]', '', regex=True)\n",
    "#       .str.strip()\n",
    "# )\n"
   ]
  },
  {
   "cell_type": "code",
   "execution_count": 72,
   "metadata": {},
   "outputs": [
    {
     "name": "stdout",
     "output_type": "stream",
     "text": [
      "Aantal inconsistenties: 32387\n"
     ]
    }
   ],
   "source": [
    "# mask_bad = ~post_cbs_200.apply(\n",
    "#     lambda row: row['road_segment_type_clean'] \n",
    "#                 in valid_if_crossing[row['Crossing']],\n",
    "#     axis=1\n",
    "# )\n",
    "# df_inconsistent = post_cbs_200[mask_bad]\n",
    "# print(f\"Aantal inconsistenties: {len(df_inconsistent)}\")\n"
   ]
  },
  {
   "cell_type": "code",
   "execution_count": 77,
   "metadata": {},
   "outputs": [
    {
     "data": {
      "text/plain": [
       "Severity_level\n",
       "UMS    22863\n",
       "LET     9173\n",
       "DOD      351\n",
       "Name: count, dtype: int64"
      ]
     },
     "execution_count": 77,
     "metadata": {},
     "output_type": "execute_result"
    }
   ],
   "source": [
    "# df_inconsistent.Severity_level.value_counts()"
   ]
  },
  {
   "cell_type": "code",
   "execution_count": 73,
   "metadata": {},
   "outputs": [],
   "source": [
    "# df_clean = post_cbs_200[~mask_bad].copy()\n"
   ]
  },
  {
   "cell_type": "code",
   "execution_count": 84,
   "metadata": {},
   "outputs": [
    {
     "data": {
      "text/plain": [
       "Year  Severity_level\n",
       "2017  UMS               2453\n",
       "      LET                793\n",
       "      DOD                 39\n",
       "2018  UMS               3670\n",
       "      LET               1309\n",
       "      DOD                 57\n",
       "2019  UMS               3406\n",
       "      LET               1151\n",
       "      DOD                 82\n",
       "2020  UMS               2978\n",
       "      LET               1117\n",
       "      DOD                 46\n",
       "2021  UMS               3269\n",
       "      LET               1287\n",
       "      DOD                 42\n",
       "2022  UMS               3385\n",
       "      LET               1608\n",
       "      DOD                 48\n",
       "2023  UMS               3702\n",
       "      LET               1908\n",
       "      DOD                 37\n",
       "Name: count, dtype: int64"
      ]
     },
     "execution_count": 84,
     "metadata": {},
     "output_type": "execute_result"
    }
   ],
   "source": [
    "# df_inconsistent.groupby('Year')['Severity_level'].value_counts()"
   ]
  },
  {
   "cell_type": "markdown",
   "metadata": {},
   "source": [
    "# Fill Missing Max Speed"
   ]
  },
  {
   "cell_type": "code",
   "execution_count": 17,
   "metadata": {},
   "outputs": [],
   "source": [
    "max_speed_df = gpd.read_file('/Users/jorissoolsma/Downloads/Max_snelheden/Snelheden.shp')"
   ]
  },
  {
   "cell_type": "code",
   "execution_count": 18,
   "metadata": {},
   "outputs": [],
   "source": [
    "max_speed_unique = max_speed_df.sort_values('MAXSHD', ascending=False).drop_duplicates('WVK_ID')\n",
    "\n",
    "max_spd_table = max_speed_unique.set_index('WVK_ID')['MAXSHD']"
   ]
  },
  {
   "cell_type": "code",
   "execution_count": 19,
   "metadata": {},
   "outputs": [],
   "source": [
    "mask_missing_200 = post_cbs_200['Max_speed'].isna()\n",
    "mask_missing_400 = post_cbs_400['Max_speed'].isna()"
   ]
  },
  {
   "cell_type": "code",
   "execution_count": 20,
   "metadata": {},
   "outputs": [
    {
     "name": "stderr",
     "output_type": "stream",
     "text": [
      "/var/folders/c2/9ncptkzj657d0bp07xyq26y00000gn/T/ipykernel_7099/3429235840.py:1: FutureWarning: Setting an item of incompatible dtype is deprecated and will raise an error in a future version of pandas. Value '[nan nan nan ... nan nan nan]' has dtype incompatible with float64, please explicitly cast to a compatible dtype first.\n",
      "  post_cbs_200.loc[mask_missing_200, 'Max_speed'] = post_cbs_200.loc[mask_missing_200, 'WVK_ID'].map(max_spd_table)\n",
      "/var/folders/c2/9ncptkzj657d0bp07xyq26y00000gn/T/ipykernel_7099/3429235840.py:2: FutureWarning: Setting an item of incompatible dtype is deprecated and will raise an error in a future version of pandas. Value '[nan nan nan ... nan nan nan]' has dtype incompatible with float64, please explicitly cast to a compatible dtype first.\n",
      "  post_cbs_400.loc[mask_missing_400, 'Max_speed'] = post_cbs_400.loc[mask_missing_400, 'WVK_ID'].map(max_spd_table)\n"
     ]
    }
   ],
   "source": [
    "post_cbs_200.loc[mask_missing_200, 'Max_speed'] = post_cbs_200.loc[mask_missing_200, 'WVK_ID'].map(max_spd_table)\n",
    "post_cbs_400.loc[mask_missing_400, 'Max_speed'] = post_cbs_400.loc[mask_missing_400, 'WVK_ID'].map(max_spd_table)"
   ]
  },
  {
   "cell_type": "code",
   "execution_count": 21,
   "metadata": {},
   "outputs": [],
   "source": [
    "def clean_max_speed_column(series):\n",
    "    def parse_speed(val):\n",
    "        if pd.isna(val):\n",
    "            return -2  # True missing data\n",
    "        elif str(val).lower() == 'onbekend':\n",
    "            return -1  # Known, but not a normal road (bike path, etc.)\n",
    "        try:\n",
    "            return int(float(val))\n",
    "        except:\n",
    "            return -2  # Missing after merging\n",
    "    \n",
    "    return series.apply(parse_speed)\n",
    "\n",
    "\n",
    "post_cbs_200['Max_speed_clean'] = clean_max_speed_column(post_cbs_200['Max_speed'])\n",
    "post_cbs_400['Max_speed_clean'] = clean_max_speed_column(post_cbs_400['Max_speed'])"
   ]
  },
  {
   "cell_type": "code",
   "execution_count": 22,
   "metadata": {},
   "outputs": [],
   "source": [
    "post_cbs_200 = post_cbs_200.drop(columns='Max_speed')\n",
    "post_cbs_400= post_cbs_400.drop(columns='Max_speed')"
   ]
  },
  {
   "cell_type": "code",
   "execution_count": 23,
   "metadata": {},
   "outputs": [],
   "source": [
    "assert post_cbs_200['Max_speed_clean'].equals(post_cbs_400['Max_speed_clean'])"
   ]
  },
  {
   "cell_type": "code",
   "execution_count": 24,
   "metadata": {},
   "outputs": [],
   "source": [
    "post_cbs_200 = post_cbs_200.drop(columns=['index_right'], errors='ignore')\n",
    "post_cbs_400 = post_cbs_400.drop(columns=['index_right'], errors='ignore')"
   ]
  },
  {
   "cell_type": "markdown",
   "metadata": {},
   "source": [
    "# Fill Missing Urban Zone"
   ]
  },
  {
   "cell_type": "code",
   "execution_count": 25,
   "metadata": {},
   "outputs": [],
   "source": [
    "urbanzone_df = gpd.read_file('/Users/jorissoolsma/Desktop/Programming/Main_Notebooks/bebouwde_kom_2024.json')"
   ]
  },
  {
   "cell_type": "code",
   "execution_count": 26,
   "metadata": {},
   "outputs": [],
   "source": [
    "urban_merged_200 = post_cbs_200.sjoin(urbanzone_df, how='inner', predicate='within')\n",
    "urban_merged_400 = post_cbs_400.sjoin(urbanzone_df, how='inner', predicate='within')"
   ]
  },
  {
   "cell_type": "code",
   "execution_count": 27,
   "metadata": {},
   "outputs": [],
   "source": [
    "# Set fill values to BI and BU on whether they share an index in the merged dataset\n",
    "fill_values = post_cbs_200.loc[post_cbs_200['Urban_zone'].isna()].index.map(\n",
    "    lambda idx: 'BI' if idx in urban_merged_200.index else 'BU'\n",
    ")\n",
    "\n",
    "# Set missing values to fill values\n",
    "post_cbs_200.loc[post_cbs_200['Urban_zone'].isna(), 'Urban_zone'] = fill_values\n"
   ]
  },
  {
   "cell_type": "code",
   "execution_count": 28,
   "metadata": {},
   "outputs": [],
   "source": [
    "# Set fill values to BI and BU on whether they share an index in the merged dataset\n",
    "fill_values = post_cbs_400.loc[post_cbs_400['Urban_zone'].isna()].index.map(\n",
    "    lambda idx: 'BI' if idx in urban_merged_400.index else 'BU'\n",
    ")\n",
    "\n",
    "# Set missing values to fill values\n",
    "post_cbs_400.loc[post_cbs_400['Urban_zone'].isna(), 'Urban_zone'] = fill_values"
   ]
  },
  {
   "cell_type": "markdown",
   "metadata": {},
   "source": [
    "# Drop cols 80%"
   ]
  },
  {
   "cell_type": "code",
   "execution_count": 29,
   "metadata": {},
   "outputs": [],
   "source": [
    "threshold = 0.2 * int(post_cbs_400.shape[0])"
   ]
  },
  {
   "cell_type": "code",
   "execution_count": 30,
   "metadata": {},
   "outputs": [],
   "source": [
    "post_drop_200 = post_cbs_200.dropna(axis = 1, thresh=threshold)\n",
    "post_drop_400 = post_cbs_400.dropna(axis = 1, thresh=threshold)\n"
   ]
  },
  {
   "cell_type": "code",
   "execution_count": 31,
   "metadata": {},
   "outputs": [
    {
     "name": "stdout",
     "output_type": "stream",
     "text": [
      "{'Special_infrastructure_other', 'BST_CODE', 'Road_surface_other', 'Special_temporary', 'Special_temporary_other', 'Weather_conditions_2', 'Special_traffic_measure', 'Special_infrastructure'}\n"
     ]
    }
   ],
   "source": [
    "dropped_cols = set(post_cbs_200.columns) - set(post_drop_200.columns)\n",
    "print(dropped_cols)"
   ]
  },
  {
   "cell_type": "markdown",
   "metadata": {},
   "source": [
    "# Train/test split (XGBoost + ADASYN)"
   ]
  },
  {
   "cell_type": "code",
   "execution_count": 32,
   "metadata": {},
   "outputs": [],
   "source": [
    "post_drop_200 =  post_drop_200.drop(columns = ['Accident_Id', 'Location_accuracy','JTE_ID','WVK_ID', 'Location_id', 'Municipality_Id', 'Municipality_name','Province_Id', 'geometry', 'DATUM_VKL','buffer_200m'] )\n",
    "post_drop_400 = post_drop_400.drop(columns = ['Accident_Id', 'Location_accuracy','JTE_ID','WVK_ID', 'Location_id', 'Municipality_Id', 'Municipality_name','Province_Id', 'geometry', 'DATUM_VKL','buffer_400m'] )"
   ]
  },
  {
   "cell_type": "code",
   "execution_count": 33,
   "metadata": {},
   "outputs": [
    {
     "data": {
      "text/plain": [
       "['/Users/jorissoolsma/Desktop/Programming/Datasets/Checkpoints_2/train_test200']"
      ]
     },
     "execution_count": 33,
     "metadata": {},
     "output_type": "execute_result"
    }
   ],
   "source": [
    "# buffer 200m\n",
    "X = post_drop_200.drop(columns= 'Severity_level')\n",
    "y = post_drop_200.Severity_level\n",
    "\n",
    "X_train_200m, X_test_200m, y_train_200m, y_test_200m = train_test_split(\n",
    "    X, y, test_size=0.2, stratify=y, shuffle= True, random_state=42)\n",
    "\n",
    "\n",
    "joblib.dump((X_train_200m, X_test_200m, y_train_200m, y_test_200m), '/Users/jorissoolsma/Desktop/Programming/Datasets/Checkpoints_2/train_test200')"
   ]
  },
  {
   "cell_type": "code",
   "execution_count": 34,
   "metadata": {},
   "outputs": [
    {
     "data": {
      "text/plain": [
       "['/Users/jorissoolsma/Desktop/Programming/Datasets/Checkpoints_2/train_test400']"
      ]
     },
     "execution_count": 34,
     "metadata": {},
     "output_type": "execute_result"
    }
   ],
   "source": [
    "# buffer 400m\n",
    "X = post_drop_400.drop(columns= 'Severity_level')\n",
    "y = post_drop_400.Severity_level\n",
    "\n",
    "X_train_400m, X_test_400m, y_train_400m, y_test_400m = train_test_split(\n",
    "    X, y, test_size=0.2, stratify= y,shuffle=True, random_state=42)\n",
    "\n",
    "joblib.dump((X_train_400m, X_test_400m, y_train_400m, y_test_400m), '/Users/jorissoolsma/Desktop/Programming/Datasets/Checkpoints_2/train_test400')"
   ]
  },
  {
   "cell_type": "markdown",
   "metadata": {},
   "source": [
    "# load ___m"
   ]
  },
  {
   "cell_type": "code",
   "execution_count": 81,
   "metadata": {},
   "outputs": [],
   "source": [
    "import joblib\n",
    "X_train_100m, X_test_100m, y_train_100m, y_test_100m = joblib.load('/Users/jorissoolsma/Desktop/Programming/Datasets/Checkpoints/Main_1/train_test_100.pkl')\n",
    "X_train_200m, X_test_200m, y_train_200m, y_test_200m = joblib.load('/Users/jorissoolsma/Desktop/Programming/Datasets/Checkpoints_2/train_test200')\n",
    "X_train_400m, X_test_400m, y_train_400m, y_test_400m = joblib.load('/Users/jorissoolsma/Desktop/Programming/Datasets/Checkpoints_2/train_test400')"
   ]
  },
  {
   "cell_type": "markdown",
   "metadata": {},
   "source": [
    "# impute time features & Transform into cyclical encoding"
   ]
  },
  {
   "cell_type": "code",
   "execution_count": 82,
   "metadata": {},
   "outputs": [],
   "source": [
    "time_features = ['Hour', 'Month', 'Day', 'Day_of_week']\n",
    "known_years = [2021, 2022, 2023]"
   ]
  },
  {
   "cell_type": "code",
   "execution_count": 83,
   "metadata": {},
   "outputs": [],
   "source": [
    "X_train_full_100m = X_train_100m.copy()\n",
    "X_train_full_100m['Severity_level'] = y_train_100m\n",
    "\n",
    "X_train_full_200m = X_train_200m.copy()\n",
    "X_train_full_200m['Severity_level'] = y_train_200m\n",
    "\n",
    "X_train_full_400m = X_train_400m.copy()\n",
    "X_train_full_400m['Severity_level'] = y_train_400m"
   ]
  },
  {
   "cell_type": "code",
   "execution_count": 84,
   "metadata": {},
   "outputs": [],
   "source": [
    "from collections import defaultdict\n",
    "import numpy as np\n",
    "import calendar\n",
    "\n",
    "time_features = ['Hour', 'Month', 'Day', 'Day_of_week']\n",
    "known_years = [2021, 2022, 2023]\n",
    "\n",
    "def compute_empirical_distributions(df, target_col='Severity_level'):\n",
    "    empirical_dists = defaultdict(dict)\n",
    "    train_known = df[df['Year'].isin(known_years)]\n",
    "    for cls in train_known[target_col].unique():\n",
    "        for feat in time_features:\n",
    "            counts = train_known[train_known[target_col] == cls][feat].value_counts(normalize=True).sort_index()\n",
    "            empirical_dists[cls][feat] = counts\n",
    "    return empirical_dists\n"
   ]
  },
  {
   "cell_type": "code",
   "execution_count": 85,
   "metadata": {},
   "outputs": [],
   "source": [
    "def sample_from_empirical(dist_series):\n",
    "    values = dist_series.index.values\n",
    "    probs = dist_series.values\n",
    "    return np.random.choice(values, p=probs)\n",
    "\n",
    "def impute_time_features(df, dists, target_col='Severity_level'):\n",
    "    def impute_row(row):\n",
    "        cls = row[target_col]\n",
    "        if row['Year'] not in known_years:\n",
    "            for feat in time_features:\n",
    "                dist = dists.get(cls, {}).get(feat)\n",
    "                if dist is not None:\n",
    "                    row[feat] = sample_from_empirical(dist)\n",
    "        return row\n",
    "\n",
    "    return df.apply(impute_row, axis=1)\n"
   ]
  },
  {
   "cell_type": "code",
   "execution_count": 86,
   "metadata": {},
   "outputs": [],
   "source": [
    "def add_cyclical_features(df):\n",
    "    df['Hour_sin'] = np.sin(2 * np.pi * df['Hour'] / 24)\n",
    "    df['Hour_cos'] = np.cos(2 * np.pi * df['Hour'] / 24)\n",
    "\n",
    "    df['Month_sin'] = np.sin(2 * np.pi * df['Month'] / 12)\n",
    "    df['Month_cos'] = np.cos(2 * np.pi * df['Month'] / 12)\n",
    "\n",
    "    days_in_month = df.apply(lambda row: calendar.monthrange(int(row['Year']), int(row['Month']))[1], axis=1)\n",
    "    df['Day_sin'] = np.sin(2 * np.pi * df['Day'] / days_in_month)\n",
    "    df['Day_cos'] = np.cos(2 * np.pi * df['Day'] / days_in_month)\n",
    "\n",
    "    df['Day_of_week_sin'] = np.sin(2 * np.pi * df['Day_of_week'] / 7)\n",
    "    df['Day_of_week_cos'] = np.cos(2 * np.pi * df['Day_of_week'] / 7)\n",
    "    return df\n"
   ]
  },
  {
   "cell_type": "code",
   "execution_count": 87,
   "metadata": {},
   "outputs": [],
   "source": [
    "def preprocess_train_test(X_train, y_train, X_test, y_test):\n",
    "    # Create combined train set for empirical distributions\n",
    "    X_train_full = X_train.copy()\n",
    "    X_train_full['Severity_level'] = y_train\n",
    "\n",
    "    empirical_dists = compute_empirical_distributions(X_train_full)\n",
    "\n",
    "    # Impute training and test sets\n",
    "    X_train_imp = X_train.copy()\n",
    "    X_train_imp['Severity_level'] = y_train\n",
    "    X_test_imp = X_test.copy()\n",
    "    X_test_imp['Severity_level'] = y_test\n",
    "\n",
    "    X_train_imp = impute_time_features(X_train_imp, empirical_dists)\n",
    "    X_test_imp = impute_time_features(X_test_imp, empirical_dists)\n",
    "\n",
    "    # Drop rows with missing time features\n",
    "    cols_to_int = ['Hour', 'Month', 'Day', 'Day_of_week']\n",
    "    X_train_imp.dropna(subset=cols_to_int, inplace=True)\n",
    "    X_test_imp.dropna(subset=cols_to_int, inplace=True)\n",
    "\n",
    "    # Convert to int\n",
    "    X_train_imp[cols_to_int] = X_train_imp[cols_to_int].astype(int)\n",
    "    X_test_imp[cols_to_int] = X_test_imp[cols_to_int].astype(int)\n",
    "\n",
    "    # Add cyclical features\n",
    "    X_train_imp = add_cyclical_features(X_train_imp)\n",
    "    X_test_imp = add_cyclical_features(X_test_imp)\n",
    "\n",
    "    # Drop original features and target column\n",
    "    X_train_imp.drop(columns=cols_to_int + ['Severity_level'], inplace=True)\n",
    "    X_test_imp.drop(columns=cols_to_int + ['Severity_level'], inplace=True)\n",
    "\n",
    "    # Align labels\n",
    "    y_train_aligned = y_train.loc[X_train_imp.index]\n",
    "    y_test_aligned = y_test.loc[X_test_imp.index]\n",
    "\n",
    "    return X_train_imp, y_train_aligned, X_test_imp, y_test_aligned\n"
   ]
  },
  {
   "cell_type": "code",
   "execution_count": 88,
   "metadata": {},
   "outputs": [],
   "source": [
    "# 100m buffer\n",
    "X_train_100m_imp, y_train_100m_imp, X_test_100m_imp, y_test_100m_imp = preprocess_train_test(\n",
    "    X_train_100m, y_train_100m, X_test_100m, y_test_100m\n",
    ")\n",
    "\n",
    "# 200m buffer\n",
    "X_train_200m_imp, y_train_200m_imp, X_test_200m_imp, y_test_200m_imp = preprocess_train_test(\n",
    "    X_train_200m, y_train_200m, X_test_200m, y_test_200m\n",
    ")\n",
    "\n",
    "# 400m buffer\n",
    "X_train_400m_imp, y_train_400m_imp, X_test_400m_imp, y_test_400m_imp = preprocess_train_test(\n",
    "    X_train_400m, y_train_400m, X_test_400m, y_test_400m\n",
    ")\n"
   ]
  },
  {
   "cell_type": "code",
   "execution_count": 110,
   "metadata": {},
   "outputs": [],
   "source": [
    "def finalize_missing_values(X_train, X_test):\n",
    "    X_train_f = X_train.copy()\n",
    "    X_test_f = X_test.copy()\n",
    "\n",
    "    # Fill 100m/200m/400m features with 0\n",
    "    for df in (X_train_f, X_test_f):\n",
    "        suffix_cols = [col for col in df.columns if col.endswith(('100m', '200m', '400m'))]\n",
    "        df[suffix_cols] = df[suffix_cols].fillna(0)\n",
    "\n",
    "    # Fill numeric features with 0\n",
    "    numeric_cols = X_train_f.select_dtypes(include='number').columns\n",
    "    for col in numeric_cols:\n",
    "        mean_val = X_train_f[col].mean()\n",
    "        # vul missings in train en test met die training‐mean\n",
    "        X_train_f[col].fillna(mean_val)\n",
    "        X_test_f[col].fillna(mean_val)\n",
    "\n",
    "    # Fill categorical features with mode\n",
    "    cat_cols = X_train_f.select_dtypes(include=['object', 'category']).columns\n",
    "    for col in cat_cols:\n",
    "        mode_series = X_train_f[col].mode().dropna()\n",
    "        if not mode_series.empty:\n",
    "            mode_val = mode_series[0]\n",
    "            X_train_f[col] = X_train_f[col].fillna(mode_val)\n",
    "            if col in X_test_f.columns:\n",
    "                X_test_f[col] = X_test_f[col].fillna(mode_val)\n",
    "\n",
    "    return X_train_f, X_test_f\n"
   ]
  },
  {
   "cell_type": "code",
   "execution_count": 111,
   "metadata": {},
   "outputs": [],
   "source": [
    "X_train_100m_final, X_test_100m_final = finalize_missing_values(X_train_100m_imp, X_test_100m_imp)\n",
    "X_train_200m_final, X_test_200m_final = finalize_missing_values(X_train_200m_imp, X_test_200m_imp)\n",
    "X_train_400m_final, X_test_400m_final = finalize_missing_values(X_train_400m_imp, X_test_400m_imp)\n"
   ]
  },
  {
   "cell_type": "code",
   "execution_count": 91,
   "metadata": {},
   "outputs": [],
   "source": [
    "cols_to_drop100m = ['Accident_Id', 'DATUM_VKL','JTE_ID', 'Location_accuracy', 'Location_id','Municipality_Id',\n",
    " 'Municipality_name','Province_Id','WVK_ID','buffer_100m', 'geometry']"
   ]
  },
  {
   "cell_type": "code",
   "execution_count": 92,
   "metadata": {},
   "outputs": [],
   "source": [
    "X_train_100m_final = X_train_100m_final.drop(columns=cols_to_drop100m)\n",
    "X_test_100m_final = X_test_100m_final.drop(columns=cols_to_drop100m)"
   ]
  },
  {
   "cell_type": "code",
   "execution_count": 93,
   "metadata": {},
   "outputs": [],
   "source": [
    "assert X_train_100m_final.index.equals(X_train_400m_final.index)\n",
    "assert X_train_100m_final.index.equals(X_train_200m_final.index)"
   ]
  },
  {
   "cell_type": "code",
   "execution_count": 94,
   "metadata": {},
   "outputs": [
    {
     "data": {
      "text/plain": [
       "['/Users/jorissoolsma/Desktop/Programming/Datasets/Checkpoints_2/post_imp400.pkl']"
      ]
     },
     "execution_count": 94,
     "metadata": {},
     "output_type": "execute_result"
    }
   ],
   "source": [
    "joblib.dump((X_train_100m_final, X_test_100m_final, y_train_100m_imp, y_test_100m_imp),'/Users/jorissoolsma/Desktop/Programming/Datasets/Checkpoints_2/post_imp100.pkl')\n",
    "joblib.dump((X_train_200m_final, X_test_200m_final, y_train_200m_imp, y_test_200m_imp),'/Users/jorissoolsma/Desktop/Programming/Datasets/Checkpoints_2/post_imp200.pkl')\n",
    "joblib.dump((X_train_400m_final, X_test_400m_final, y_train_400m_imp, y_test_400m_imp),'/Users/jorissoolsma/Desktop/Programming/Datasets/Checkpoints_2/post_imp400.pkl')"
   ]
  },
  {
   "cell_type": "code",
   "execution_count": 3,
   "metadata": {},
   "outputs": [],
   "source": [
    "import joblib\n",
    "\n",
    "# Load 100m buffer data\n",
    "X_train_100m_final, X_test_100m_final, y_train_100m_imp, y_test_100m_imp = joblib.load(\n",
    "    '/Users/jorissoolsma/Desktop/Programming/Datasets/Checkpoints_2/post_imp100.pkl'\n",
    ")\n",
    "\n",
    "# Load 200m buffer data\n",
    "X_train_200m_final, X_test_200m_final, y_train_200m_imp, y_test_200m_imp = joblib.load(\n",
    "    '/Users/jorissoolsma/Desktop/Programming/Datasets/Checkpoints_2/post_imp200.pkl'\n",
    ")\n",
    "\n",
    "# Load 400m buffer data\n",
    "X_train_400m_final, X_test_400m_final, y_train_400m_imp, y_test_400m_imp = joblib.load(\n",
    "    '/Users/jorissoolsma/Desktop/Programming/Datasets/Checkpoints_2/post_imp400.pkl'\n",
    ")\n"
   ]
  },
  {
   "cell_type": "markdown",
   "metadata": {},
   "source": [
    "#  one hot"
   ]
  },
  {
   "cell_type": "code",
   "execution_count": 4,
   "metadata": {},
   "outputs": [],
   "source": [
    "from sklearn.preprocessing import OneHotEncoder\n",
    "from sklearn.compose import ColumnTransformer\n",
    "import joblib\n",
    "\n",
    "def encode_and_save(X_train_final, X_test_final, y_train, y_test, save_path):\n",
    "    # Identify categorical and numeric columns\n",
    "    categorical_cols = X_train_final.select_dtypes(include=['object', 'category']).columns.tolist()\n",
    "    numeric_cols = [col for col in X_train_final.columns if col not in categorical_cols]\n",
    "\n",
    "    # Set up preprocessor\n",
    "    preprocessor = ColumnTransformer(\n",
    "        transformers=[\n",
    "            ('cat', OneHotEncoder(handle_unknown='ignore', sparse_output=False), categorical_cols)\n",
    "        ],\n",
    "        remainder='passthrough'\n",
    "    )\n",
    "\n",
    "    # Fit on training data and transform both sets\n",
    "    X_train_encoded = preprocessor.fit_transform(X_train_final)\n",
    "    X_test_encoded = preprocessor.transform(X_test_final)\n",
    "\n",
    "    # Get feature names\n",
    "    cat_features = preprocessor.named_transformers_['cat'].get_feature_names_out(categorical_cols)\n",
    "    feature_names = list(cat_features) + numeric_cols\n",
    "\n",
    "    # Save to disk\n",
    "    joblib.dump((X_train_encoded, X_test_encoded, y_train, y_test, feature_names), save_path)\n",
    "\n",
    "    return X_train_encoded, X_test_encoded, feature_names\n"
   ]
  },
  {
   "cell_type": "code",
   "execution_count": 5,
   "metadata": {},
   "outputs": [],
   "source": [
    "X_train_100m_encoded, X_test_100m_encoded, feature_names_100m = encode_and_save(\n",
    "    X_train_100m_final,\n",
    "    X_test_100m_final,\n",
    "    y_train_100m_imp,\n",
    "    y_test_100m_imp,\n",
    "    '/Users/jorissoolsma/Desktop/Programming/Datasets/Checkpoints_2/post_encod_100.pkl'\n",
    ")"
   ]
  },
  {
   "cell_type": "code",
   "execution_count": 6,
   "metadata": {},
   "outputs": [],
   "source": [
    "X_train_200m_encoded, X_test_200m_encoded, feature_names_200m = encode_and_save(\n",
    "    X_train_200m_final,\n",
    "    X_test_200m_final,\n",
    "    y_train_200m_imp,\n",
    "    y_test_200m_imp,\n",
    "    '/Users/jorissoolsma/Desktop/Programming/Datasets/Checkpoints_2/post_encod_200.pkl'\n",
    ")\n"
   ]
  },
  {
   "cell_type": "code",
   "execution_count": 7,
   "metadata": {},
   "outputs": [],
   "source": [
    "X_train_400m_encoded, X_test_400m_encoded, feature_names_400m = encode_and_save(\n",
    "    X_train_400m_final,\n",
    "    X_test_400m_final,\n",
    "    y_train_400m_imp,\n",
    "    y_test_400m_imp,\n",
    "    '/Users/jorissoolsma/Desktop/Programming/Datasets/Checkpoints_2/post_encod_400.pkl'\n",
    ")\n"
   ]
  },
  {
   "cell_type": "code",
   "execution_count": 8,
   "metadata": {},
   "outputs": [
    {
     "data": {
      "text/plain": [
       "['Nature_of_accident_Animal',\n",
       " 'Nature_of_accident_Fixed object',\n",
       " 'Nature_of_accident_Head-on',\n",
       " 'Nature_of_accident_Loose object',\n",
       " 'Nature_of_accident_Parked vehicle',\n",
       " 'Nature_of_accident_Pedestrian',\n",
       " 'Nature_of_accident_Rear-end',\n",
       " 'Nature_of_accident_Side impact',\n",
       " 'Nature_of_accident_Single vehicle',\n",
       " 'Road_segment_type_Bocht',\n",
       " 'Road_segment_type_Invoegstrook op (auto)snelweg',\n",
       " 'Road_segment_type_Kruispunt 3 takken',\n",
       " 'Road_segment_type_Kruispunt 4 takken',\n",
       " 'Road_segment_type_Rechte weg',\n",
       " 'Road_segment_type_Rechte weg - gescheiden rijbanen',\n",
       " 'Road_segment_type_Rotonde',\n",
       " 'Road_segment_type_Uitvoegstrook op (auto)snelweg',\n",
       " 'Urban_zone_BI',\n",
       " 'Urban_zone_BU',\n",
       " 'Streetlight_status_Lit',\n",
       " 'Streetlight_status_Not lit',\n",
       " 'Streetlight_status_Not present',\n",
       " 'Road_surface_Beton',\n",
       " 'Road_surface_Klinkers',\n",
       " 'Road_surface_Onverhard',\n",
       " 'Road_surface_Overig asfalt',\n",
       " 'Road_surface_ZOAB',\n",
       " 'Road_surface_condition_Dry',\n",
       " 'Road_surface_condition_Snow/ice',\n",
       " 'Road_surface_condition_Wet',\n",
       " 'Natural_light_Darkness',\n",
       " 'Natural_light_Daylight',\n",
       " 'Natural_light_Twilight',\n",
       " 'Weather_conditions_1_Dry',\n",
       " 'Weather_conditions_1_Fog',\n",
       " 'Weather_conditions_1_Rain',\n",
       " 'Weather_conditions_1_Snow/Hail',\n",
       " 'Weather_conditions_1_Strong gusts of wind',\n",
       " 'Province_name_Drenthe',\n",
       " 'Province_name_Flevoland',\n",
       " 'Province_name_Friesland',\n",
       " 'Province_name_Gelderland',\n",
       " 'Province_name_Groningen',\n",
       " 'Province_name_Limburg',\n",
       " 'Province_name_Noord-Brabant',\n",
       " 'Province_name_Noord-Holland',\n",
       " 'Province_name_Overijssel',\n",
       " 'Province_name_Utrecht',\n",
       " 'Province_name_Zeeland',\n",
       " 'Province_name_Zuid-Holland',\n",
       " 'WEG_CAT_OV-verbinding',\n",
       " 'WEG_CAT_autosnelweg',\n",
       " 'WEG_CAT_autoweg',\n",
       " 'WEG_CAT_bromfietspad',\n",
       " 'WEG_CAT_erf',\n",
       " 'WEG_CAT_fietspad',\n",
       " 'WEG_CAT_lokale weg',\n",
       " 'WEG_CAT_onbekend',\n",
       " 'WEG_CAT_onverharde weg',\n",
       " 'WEG_CAT_regionale weg',\n",
       " 'WEG_CAT_stadshoofdweg',\n",
       " 'WEG_CAT_straat',\n",
       " 'WEG_CAT_verzorgingsplaats',\n",
       " 'WEG_CAT_voetpad',\n",
       " 'Year',\n",
       " 'Nr_of_parties',\n",
       " 'X_COORD',\n",
       " 'Y_COORD',\n",
       " 'assembly_function_count_400m',\n",
       " 'detention_function_count_400m',\n",
       " 'healthcare_function_count_400m',\n",
       " 'industrial_function_count_400m',\n",
       " 'office_function_count_400m',\n",
       " 'lodging_function_count_400m',\n",
       " 'mixed_usage_count_400m',\n",
       " 'educational_function_count_400m',\n",
       " 'other_usage_function_count_400m',\n",
       " 'sports_function_count_400m',\n",
       " 'retail_function_count_400m',\n",
       " 'residential_function_count_400m',\n",
       " 'average_age',\n",
       " 'FSI_22_max',\n",
       " 'FSI_22_mean',\n",
       " 'FSI_22_min',\n",
       " 'FSI_22_std',\n",
       " 'GSI_22_max',\n",
       " 'GSI_22_mean',\n",
       " 'GSI_22_min',\n",
       " 'GSI_22_std',\n",
       " 'L_22_max',\n",
       " 'L_22_mean',\n",
       " 'L_22_min',\n",
       " 'L_22_std',\n",
       " 'MXI_22_max',\n",
       " 'MXI_22_mean',\n",
       " 'MXI_22_min',\n",
       " 'MXI_22_std',\n",
       " 'OSR_22_max',\n",
       " 'OSR_22_mean',\n",
       " 'OSR_22_min',\n",
       " 'OSR_22_std',\n",
       " 'basisonderwijs_gemiddelde_afstand_in_km',\n",
       " 'bevolkingsdichtheid_inwoners_per_km2',\n",
       " 'brandweerkazerne_gemiddelde_afstand_in_km',\n",
       " 'buitenschoolse_opvang_gem_afstand_in_km',\n",
       " 'cafe_gemiddelde_afstand_in_km',\n",
       " 'gemiddelde_woningwaarde',\n",
       " 'grote_supermarkt_gemiddelde_afstand_in_km',\n",
       " 'havo_vwo_gemiddelde_afstand_in_km',\n",
       " 'kinderdagverblijf_gemiddelde_afstand_in_km',\n",
       " 'motortweewielers_totaal',\n",
       " 'oprit_hoofdverkeersweg_gemiddelde_afstand_in_km',\n",
       " 'percentage_bouwjaarklasse_tot_2000',\n",
       " 'percentage_bouwjaarklasse_vanaf_2000',\n",
       " 'personenautos_per_huishouden',\n",
       " 'restaurant_gemiddelde_afstand_in_km',\n",
       " 'treinstation_gemiddelde_afstand_in_km',\n",
       " 'vmbo_gemiddelde_afstand_in_km',\n",
       " 'voortgezet_onderwijs_gem_afstand_in_km',\n",
       " 'winkels_ov_dagelijkse_levensm_gem_afst_in_km',\n",
       " 'ziekenhuis_incl_buitenpolikliniek_gem_afst_in_km',\n",
       " 'Crossing',\n",
       " 'Max_speed_clean',\n",
       " 'Hour_sin',\n",
       " 'Hour_cos',\n",
       " 'Month_sin',\n",
       " 'Month_cos',\n",
       " 'Day_sin',\n",
       " 'Day_cos',\n",
       " 'Day_of_week_sin',\n",
       " 'Day_of_week_cos']"
      ]
     },
     "execution_count": 8,
     "metadata": {},
     "output_type": "execute_result"
    }
   ],
   "source": [
    "feature_names_400m"
   ]
  },
  {
   "cell_type": "markdown",
   "metadata": {},
   "source": [
    "# train"
   ]
  },
  {
   "cell_type": "code",
   "execution_count": 12,
   "metadata": {},
   "outputs": [],
   "source": [
    "# ✅ Best Hyperparameters: {'n_estimators': 150, 'learning_rate': 0.13970161912980927, 'max_depth': 7, 'min_child_samples': 42, 'subsample': 0.8441167442022469, 'colsample_bytree': 0.5840385613745391, 'reg_alpha': 0.790008258804648, 'reg_lambda': 0.7444711000801812}\n",
    "# bl_smote_target = 28611\n",
    "# rus_1 = 13457\n",
    "# rus_2 = 22151"
   ]
  },
  {
   "cell_type": "code",
   "execution_count": 13,
   "metadata": {},
   "outputs": [],
   "source": [
    "# {'adasyn_target': 24203, 'rus_1': 12980, 'rus_2': 35536}"
   ]
  },
  {
   "cell_type": "code",
   "execution_count": 14,
   "metadata": {},
   "outputs": [],
   "source": [
    "from lightgbm import LGBMClassifier\n",
    "from sklearn.preprocessing import LabelEncoder\n",
    "from sklearn.metrics import classification_report, confusion_matrix\n",
    "from imblearn.over_sampling import BorderlineSMOTE\n",
    "from imblearn.under_sampling import RandomUnderSampler\n",
    "from imblearn.pipeline import Pipeline as ImbPipeline\n",
    "import pandas as pd\n",
    "\n",
    "def train_fixed_blsmote_rus_lgbm(X_train, y_train, X_test, y_test, config, label='DOD'):\n",
    "    # Label encode target\n",
    "    le = LabelEncoder()\n",
    "    y_train_enc = le.fit_transform(y_train)\n",
    "    y_test_enc = le.transform(y_test)\n",
    "    target_index = le.transform([label])[0]\n",
    "\n",
    "    # Clean NaNs\n",
    "    X_train = pd.DataFrame(X_train).fillna(0).values\n",
    "    X_test  = pd.DataFrame(X_test).fillna(0).values\n",
    "\n",
    "    # Sampling strategies\n",
    "    sampling_strategy_over = {target_index: config['bl_smote_target']}\n",
    "\n",
    "    all_classes = list(le.classes_)\n",
    "    other_class_indices = [i for i in range(len(all_classes)) if i != target_index]\n",
    "\n",
    "    sampling_strategy_under = {\n",
    "        other_class_indices[0]: config['rus_1'],\n",
    "        other_class_indices[1]: config['rus_2']\n",
    "    }\n",
    "\n",
    "    # LightGBM expects 'min_child_samples' instead of 'min_child_weight'\n",
    "    lgbm_params = {\n",
    "        'n_estimators': config['n_estimators'],\n",
    "        'learning_rate': config['learning_rate'],\n",
    "        'max_depth': config['max_depth'],\n",
    "        'min_child_samples': config['min_child_samples'],\n",
    "        'subsample': config['subsample'],\n",
    "        'colsample_bytree': config['colsample_bytree'],\n",
    "        'reg_alpha': config['reg_alpha'],\n",
    "        'reg_lambda': config['reg_lambda'],\n",
    "        'objective': 'multiclass',\n",
    "        'num_class': len(le.classes_),\n",
    "        'random_state': 42,\n",
    "        'n_jobs': -1,\n",
    "        'verbose': -1\n",
    "    }\n",
    "\n",
    "    # Pipeline\n",
    "    pipe = ImbPipeline([\n",
    "        ('blsmote', BorderlineSMOTE(sampling_strategy=sampling_strategy_over, random_state=42)),\n",
    "        ('rus', RandomUnderSampler(sampling_strategy=sampling_strategy_under, random_state=42)),\n",
    "        ('lgbm', LGBMClassifier(**lgbm_params))\n",
    "    ])\n",
    "\n",
    "    # Train and evaluate\n",
    "    pipe.fit(X_train, y_train_enc)\n",
    "    y_pred = pipe.predict(X_test)\n",
    "\n",
    "    print(\"\\n=== Final Test Evaluation ===\")\n",
    "    print(\"Classification Report:\")\n",
    "    print(classification_report(y_test_enc, y_pred, target_names=le.classes_))\n",
    "    print(\"Confusion Matrix:\")\n",
    "    print(confusion_matrix(y_test_enc, y_pred))\n",
    "\n",
    "    return pipe\n"
   ]
  },
  {
   "cell_type": "code",
   "execution_count": 15,
   "metadata": {},
   "outputs": [],
   "source": [
    "config = {\n",
    "    'bl_smote_target': 28611,\n",
    "    'rus_1': 13457,\n",
    "    'rus_2': 22151,\n",
    "    'n_estimators': 150,\n",
    "    'learning_rate': 0.1397,\n",
    "    'max_depth': 7,\n",
    "    'min_child_samples': 42,\n",
    "    'subsample': 0.8441,\n",
    "    'colsample_bytree': 0.5840,\n",
    "    'reg_alpha': 0.79,\n",
    "    'reg_lambda': 0.744\n",
    "}\n",
    "\n"
   ]
  },
  {
   "cell_type": "code",
   "execution_count": 16,
   "metadata": {},
   "outputs": [
    {
     "name": "stderr",
     "output_type": "stream",
     "text": [
      "/Users/jorissoolsma/Desktop/Programming/.venv/lib/python3.13/site-packages/sklearn/utils/validation.py:2739: UserWarning: X does not have valid feature names, but LGBMClassifier was fitted with feature names\n",
      "  warnings.warn(\n"
     ]
    },
    {
     "name": "stdout",
     "output_type": "stream",
     "text": [
      "\n",
      "=== Final Test Evaluation ===\n",
      "Classification Report:\n",
      "              precision    recall  f1-score   support\n",
      "\n",
      "         DOD       0.10      0.13      0.11       699\n",
      "         LET       0.56      0.47      0.51     19585\n",
      "         UMS       0.83      0.88      0.85     58738\n",
      "\n",
      "    accuracy                           0.77     79022\n",
      "   macro avg       0.50      0.49      0.49     79022\n",
      "weighted avg       0.76      0.77      0.76     79022\n",
      "\n",
      "Confusion Matrix:\n",
      "[[   89   235   375]\n",
      " [  352  9145 10088]\n",
      " [  479  6836 51423]]\n"
     ]
    }
   ],
   "source": [
    "model_100m = train_fixed_blsmote_rus_lgbm(\n",
    "    X_train_100m_encoded, y_train_100m_imp,\n",
    "    X_test_100m_encoded, y_test_100m_imp,\n",
    "    config=config\n",
    ")"
   ]
  },
  {
   "cell_type": "code",
   "execution_count": 17,
   "metadata": {},
   "outputs": [
    {
     "name": "stdout",
     "output_type": "stream",
     "text": [
      "\n",
      "=== 100m Buffer (LightGBM + BorderlineSMOTE) ===\n"
     ]
    },
    {
     "name": "stderr",
     "output_type": "stream",
     "text": [
      "/Users/jorissoolsma/Desktop/Programming/.venv/lib/python3.13/site-packages/sklearn/utils/validation.py:2739: UserWarning: X does not have valid feature names, but LGBMClassifier was fitted with feature names\n",
      "  warnings.warn(\n"
     ]
    },
    {
     "name": "stdout",
     "output_type": "stream",
     "text": [
      "\n",
      "=== Final Test Evaluation ===\n",
      "Classification Report:\n",
      "              precision    recall  f1-score   support\n",
      "\n",
      "         DOD       0.10      0.13      0.11       699\n",
      "         LET       0.56      0.47      0.51     19585\n",
      "         UMS       0.83      0.88      0.85     58738\n",
      "\n",
      "    accuracy                           0.77     79022\n",
      "   macro avg       0.50      0.49      0.49     79022\n",
      "weighted avg       0.76      0.77      0.76     79022\n",
      "\n",
      "Confusion Matrix:\n",
      "[[   89   235   375]\n",
      " [  352  9145 10088]\n",
      " [  479  6836 51423]]\n",
      "\n",
      "=== 200m Buffer (LightGBM + BorderlineSMOTE) ===\n"
     ]
    },
    {
     "name": "stderr",
     "output_type": "stream",
     "text": [
      "/Users/jorissoolsma/Desktop/Programming/.venv/lib/python3.13/site-packages/sklearn/utils/validation.py:2739: UserWarning: X does not have valid feature names, but LGBMClassifier was fitted with feature names\n",
      "  warnings.warn(\n"
     ]
    },
    {
     "name": "stdout",
     "output_type": "stream",
     "text": [
      "\n",
      "=== Final Test Evaluation ===\n",
      "Classification Report:\n",
      "              precision    recall  f1-score   support\n",
      "\n",
      "         DOD       0.12      0.14      0.13       699\n",
      "         LET       0.56      0.47      0.51     19585\n",
      "         UMS       0.83      0.87      0.85     58738\n",
      "\n",
      "    accuracy                           0.77     79022\n",
      "   macro avg       0.50      0.50      0.50     79022\n",
      "weighted avg       0.76      0.77      0.76     79022\n",
      "\n",
      "Confusion Matrix:\n",
      "[[  101   235   363]\n",
      " [  326  9210 10049]\n",
      " [  435  6997 51306]]\n",
      "\n",
      "=== 400m Buffer (LightGBM + BorderlineSMOTE) ===\n"
     ]
    },
    {
     "name": "stderr",
     "output_type": "stream",
     "text": [
      "/Users/jorissoolsma/Desktop/Programming/.venv/lib/python3.13/site-packages/sklearn/utils/validation.py:2739: UserWarning: X does not have valid feature names, but LGBMClassifier was fitted with feature names\n",
      "  warnings.warn(\n"
     ]
    },
    {
     "name": "stdout",
     "output_type": "stream",
     "text": [
      "\n",
      "=== Final Test Evaluation ===\n",
      "Classification Report:\n",
      "              precision    recall  f1-score   support\n",
      "\n",
      "         DOD       0.11      0.14      0.12       699\n",
      "         LET       0.56      0.47      0.51     19585\n",
      "         UMS       0.83      0.87      0.85     58738\n",
      "\n",
      "    accuracy                           0.77     79022\n",
      "   macro avg       0.50      0.49      0.49     79022\n",
      "weighted avg       0.76      0.77      0.76     79022\n",
      "\n",
      "Confusion Matrix:\n",
      "[[   96   236   367]\n",
      " [  336  9129 10120]\n",
      " [  475  6876 51387]]\n"
     ]
    }
   ],
   "source": [
    "buffers = {\n",
    "    \"100m\": (X_train_100m_encoded, y_train_100m_imp, X_test_100m_encoded, y_test_100m_imp),\n",
    "    \"200m\": (X_train_200m_encoded, y_train_200m_imp, X_test_200m_encoded, y_test_200m_imp),\n",
    "    \"400m\": (X_train_400m_encoded, y_train_400m_imp, X_test_400m_encoded, y_test_400m_imp)\n",
    "}\n",
    "\n",
    "trained_models = {}\n",
    "\n",
    "for buffer_name, (X_train, y_train, X_test, y_test) in buffers.items():\n",
    "    print(f\"\\n=== {buffer_name} Buffer (LightGBM + BorderlineSMOTE) ===\")\n",
    "    trained_models[buffer_name] = train_fixed_blsmote_rus_lgbm(\n",
    "        X_train, y_train, X_test, y_test, config=config\n",
    "    )"
   ]
  },
  {
   "cell_type": "markdown",
   "metadata": {},
   "source": [
    "# shap"
   ]
  },
  {
   "cell_type": "code",
   "execution_count": 18,
   "metadata": {},
   "outputs": [
    {
     "name": "stdout",
     "output_type": "stream",
     "text": [
      "Model expects 131 features\n"
     ]
    }
   ],
   "source": [
    "lgbm_model_100m = model_100m.named_steps['lgbm']\n",
    "print(\"Model expects\", lgbm_model_100m.booster_.num_feature(), \"features\")\n"
   ]
  },
  {
   "cell_type": "code",
   "execution_count": 22,
   "metadata": {},
   "outputs": [],
   "source": [
    "X_all_encoded = np.vstack([X_train_100m_encoded, X_test_100m_encoded])\n",
    "\n",
    "# Create a DataFrame for SHAP (using one-hot encoded feature names)\n",
    "X_100m_df = pd.DataFrame(X_all_encoded, columns=feature_names_100m)"
   ]
  },
  {
   "cell_type": "code",
   "execution_count": 23,
   "metadata": {},
   "outputs": [],
   "source": [
    "explainer = shap.TreeExplainer(lgbm_model_100m)\n",
    "shap_values = explainer.shap_values(X_100m_df)"
   ]
  },
  {
   "cell_type": "code",
   "execution_count": 24,
   "metadata": {},
   "outputs": [
    {
     "name": "stdout",
     "output_type": "stream",
     "text": [
      "\n",
      "=== SHAP Beeswarm Plot for class 'DOD' ===\n"
     ]
    },
    {
     "data": {
      "image/png": "[encoded data removed]",
      "text/plain": [
       "<Figure size 800x950 with 2 Axes>"
      ]
     },
     "metadata": {},
     "output_type": "display_data"
    },
    {
     "name": "stdout",
     "output_type": "stream",
     "text": [
      "\n",
      "=== SHAP Beeswarm Plot for class 'LET' ===\n"
     ]
    },
    {
     "data": {
      "image/png": "[encoded data removed]",
      "text/plain": [
       "<Figure size 800x950 with 2 Axes>"
      ]
     },
     "metadata": {},
     "output_type": "display_data"
    },
    {
     "name": "stdout",
     "output_type": "stream",
     "text": [
      "\n",
      "=== SHAP Beeswarm Plot for class 'UMS' ===\n"
     ]
    },
    {
     "data": {
      "image/png": "[encoded data removed]",
      "text/plain": [
       "<Figure size 800x950 with 2 Axes>"
      ]
     },
     "metadata": {},
     "output_type": "display_data"
    }
   ],
   "source": [
    "# class labels — match your class order\n",
    "class_names = ['DOD', 'LET', 'UMS']\n",
    "\n",
    "# Plot SHAP summary beeswarm per class\n",
    "for i, class_name in enumerate(class_names):\n",
    "    print(f\"\\n=== SHAP Beeswarm Plot for class '{class_name}' ===\")\n",
    "    shap.summary_plot(\n",
    "        shap_values[:, :, i],         # SHAP values for class i\n",
    "        features=X_100m_df,           # DataFrame with samples\n",
    "        feature_names=feature_names_100m,\n",
    "        show=True\n",
    "    )\n",
    "\n"
   ]
  },
  {
   "cell_type": "code",
   "execution_count": 26,
   "metadata": {},
   "outputs": [
    {
     "name": "stdout",
     "output_type": "stream",
     "text": [
      "\n",
      "=== SHAP Beeswarm Plot for class 'DOD' ===\n",
      "\n",
      "=== SHAP Beeswarm Plot for class 'LET' ===\n",
      "\n",
      "=== SHAP Beeswarm Plot for class 'UMS' ===\n"
     ]
    }
   ],
   "source": [
    "import matplotlib.pyplot as plt\n",
    "\n",
    "# Class labels — match your class order\n",
    "class_names = ['DOD', 'LET', 'UMS']\n",
    "\n",
    "# Plot and save SHAP summary beeswarm per class\n",
    "for i, class_name in enumerate(class_names):\n",
    "    print(f\"\\n=== SHAP Beeswarm Plot for class '{class_name}' ===\")\n",
    "    \n",
    "    shap.summary_plot(\n",
    "        shap_values[:, :, i],         # SHAP values for class i\n",
    "        features=X_100m_df,           # DataFrame with samples\n",
    "        feature_names=feature_names_100m,\n",
    "        show=False                    # Don't display yet\n",
    "    )\n",
    "    \n",
    "    # Save the current figure\n",
    "    plt.tight_layout()\n",
    "    plt.savefig(f\"shap_beeswarm_{class_name}.png\", dpi=300)\n",
    "    plt.close()  # Close the plot to avoid overlapping figures\n"
   ]
  },
  {
   "cell_type": "code",
   "execution_count": null,
   "metadata": {},
   "outputs": [],
   "source": [
    "import shap\n",
    "import pandas as pd\n",
    "\n",
    "# Step 1: Extract trained LightGBM model from pipeline\n",
    "lgbm_model_100m = model_100m.named_steps['lgbm']\n",
    "\n",
    "# Step 2: Build aligned test DataFrame using model's features\n",
    "feature_names = lgbm_model_100m.booster_.feature_name()\n",
    "X_100m_df = pd.DataFrame(X_test_100m_encoded, columns=feature_names)\n",
    "\n",
    "# Step 3: Create TreeExplainer with default settings (model_output=\"raw\")\n",
    "explainer = shap.TreeExplainer(lgbm_model_100m)\n",
    "\n",
    "# Step 4: Compute SHAP values (should return a list of 3 arrays, one per class)\n",
    "shap_values = explainer.shap_values(X_100m_df)\n",
    "\n",
    "# Step 5: Confirm shapes\n",
    "print(\"✅ SHAP values shape per class:\", [sv.shape for sv in shap_values])\n",
    "print(\"✅ X_test shape:\", X_100m_df.shape)\n",
    "\n",
    "# Step 6: Plot summary per class\n",
    "class_names = ['DOD', 'LET', 'UMS']\n",
    "for i, class_name in enumerate(class_names):\n",
    "    print(f\"\\n=== SHAP Summary for class '{class_name}' ===\")\n",
    "    shap.summary_plot(shap_values[i], X_100m_df, show=True)\n"
   ]
  }
 ],
 "metadata": {
  "kernelspec": {
   "display_name": ".venv",
   "language": "python",
   "name": "python3"
  },
  "language_info": {
   "codemirror_mode": {
    "name": "ipython",
    "version": 3
   },
   "file_extension": ".py",
   "mimetype": "text/x-python",
   "name": "python",
   "nbconvert_exporter": "python",
   "pygments_lexer": "ipython3",
   "version": "3.13.1"
  }
 },
 "nbformat": 4,
 "nbformat_minor": 2
}
